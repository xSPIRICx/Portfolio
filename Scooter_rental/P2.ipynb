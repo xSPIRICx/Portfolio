{
 "cells": [
  {
   "cell_type": "markdown",
   "id": "da8e9ab2",
   "metadata": {},
   "source": [
    "# Проект: Исследование поведения пользователей сервиса аренды самокатов"
   ]
  },
  {
   "cell_type": "markdown",
   "id": "2d2eb3a6",
   "metadata": {},
   "source": [
    "# Описание проекта\n",
    "\n",
    "Продакт-менеджеры компании хотят увеличить количество пользователей с подпиской, для этого планируется проведение различных акций. \n",
    "\n",
    "В нашем распоряжении данные о пользователях из нескольких городов, а также об их поездках и тарифах. Необходимо проанализировать эти данные и проверить гипотезы, которые могут помочь бизнесу. \n",
    "\n",
    "**Задачи проекта:**  \n",
    "- провести предварительный анализ пользователей и их поездок;\n",
    "- проанализировать поведение клиентов при использовании услуг;\n",
    "- проверить статистические гипотезы;\n",
    "- сделать выводы и дать рекомендации.\n",
    "\n",
    "\n",
    "# Описание данных\n",
    "\n",
    "Файл `users.csv` содержит данные о пользователях:\n",
    "- `user_id` - уникальный идентификатор клиента;\n",
    "- `name` - имя клиента;\n",
    "- `age` - возраст;\n",
    "- `city` - город;\n",
    "- `subscription_type` - тип подписки.\n",
    "\n",
    "Файл `rides.csv` содержит данные о поездках:\n",
    "- `user_id` - уникальный идентификатор пользователя;\n",
    "- `distance` - расстояние, которое пользователь проехал в текущей сессии (в метрах);\n",
    "- `duration` - продолжительность сессии (в минутах) от нажатия «Начать поездку» до «Завершить поездку»;\n",
    "- `date` - дата совершения поездки.\n",
    "\n",
    "Файл `subscriptions.csv` содержит данные о подписках:\n",
    "- `subscription_type` - тип подписки;\n",
    "- `minute_price` - стоимость одной минуты поездки по типу подписки;\n",
    "- `start_ride_price` - стоимость начала поездки;\n",
    "- `subscription_fee` - стоимость ежемесячного платежа.\n",
    " \n",
    "\n",
    "# План проекта\n",
    "\n",
    "[1. Загрузка данных](#data_load)\n",
    "\n",
    "\t1.1. Загрузка библиотек\n",
    "\t1.2. Загрузка файлов\n",
    "[2. Предобработка данных](#preprocessing)\n",
    "\n",
    "\t2.1. Общая предобработка\n",
    "\t2.2. Повышение качества данных\n",
    "\t\t2.2.1. Удаление дубликатов\n",
    "\t\t2.2.2. Изменение типа данных\n",
    "\t2.3. Обогащение данных\n",
    "\t\t2.3.1. Создание столбца с номером месяца\n",
    "\t\t2.3.2. Создание переменных\n",
    "\t\t\t2.3.2.1. Обогащенные данные ('data')\n",
    "\t\t\t2.3.2.2. Пользователи с подпиской ('subscription_ultra')\n",
    "\t\t\t2.3.2.3. Пользователи без подписки ('subscription_free')           \n",
    "[3. Исследовательский анализ данных](#analysis)\n",
    "\n",
    "\t3.1. Пользователи сервиса\n",
    "\t\t3.1.1. Распределение пользователей по городам\n",
    "\t\t3.1.2. Распределение пользователей по типу подписки\n",
    "\t\t3.1.3. Распределение возраста пользователей\n",
    "\t3.2. Совершенные поездки\n",
    "\t\t3.2.1. Дистанция поездки\n",
    "\t\t3.2.2. Длительность поездки¶\n",
    "\t3.3. Поездки пользователей с разным типом подписки\n",
    "\t\t3.3.1. Дистанция поездки\n",
    "\t\t3.3.2. Длительность поездки\n",
    "\t\t3.3.3. Количество поездок\n",
    "\t\t\t3.3.3.1. Общее количество поездок у каждого пользователя\n",
    "\t\t\t3.3.3.2. Количество поездок в месяц\n",
    "    3.4. Ежемесечная выручка            \n",
    "[4. Проверка гипотез](#hypotheses)\n",
    "\n",
    "\t4.1. Гипотеза \"Средняя длительность поездок\"\n",
    "\t4.2. Гипотеза \"Оптимальное расстояние поездок\"\n",
    "\t4.3. Гипотеза \"Помесячная выручка\"   \n",
    "[5. Заключение](#conclusion)"
   ]
  },
  {
   "cell_type": "markdown",
   "id": "148cdddd",
   "metadata": {},
   "source": [
    "# 1. Загрузка данных <a id=\"#data_load\"></a> "
   ]
  },
  {
   "cell_type": "markdown",
   "id": "1fcca448",
   "metadata": {},
   "source": [
    "## 1.1. Загрузка библиотек"
   ]
  },
  {
   "cell_type": "code",
   "execution_count": 1,
   "id": "bbc7ea2b",
   "metadata": {},
   "outputs": [],
   "source": [
    "import pandas as pd\n",
    "import matplotlib.pyplot as plt\n",
    "import numpy as np\n",
    "from scipy import stats as st\n",
    "from IPython.display import display"
   ]
  },
  {
   "cell_type": "markdown",
   "id": "66c1d027",
   "metadata": {},
   "source": [
    "## 1.2. Загрузка файлов"
   ]
  },
  {
   "cell_type": "code",
   "execution_count": 2,
   "id": "ec2dba2a",
   "metadata": {},
   "outputs": [
    {
     "data": {
      "text/html": [
       "<div>\n",
       "<style scoped>\n",
       "    .dataframe tbody tr th:only-of-type {\n",
       "        vertical-align: middle;\n",
       "    }\n",
       "\n",
       "    .dataframe tbody tr th {\n",
       "        vertical-align: top;\n",
       "    }\n",
       "\n",
       "    .dataframe thead th {\n",
       "        text-align: right;\n",
       "    }\n",
       "</style>\n",
       "<table border=\"1\" class=\"dataframe\">\n",
       "  <thead>\n",
       "    <tr style=\"text-align: right;\">\n",
       "      <th></th>\n",
       "      <th>user_id</th>\n",
       "      <th>name</th>\n",
       "      <th>age</th>\n",
       "      <th>city</th>\n",
       "      <th>subscription_type</th>\n",
       "    </tr>\n",
       "  </thead>\n",
       "  <tbody>\n",
       "    <tr>\n",
       "      <th>0</th>\n",
       "      <td>1</td>\n",
       "      <td>Кира</td>\n",
       "      <td>22</td>\n",
       "      <td>Тюмень</td>\n",
       "      <td>ultra</td>\n",
       "    </tr>\n",
       "    <tr>\n",
       "      <th>1</th>\n",
       "      <td>2</td>\n",
       "      <td>Станислав</td>\n",
       "      <td>31</td>\n",
       "      <td>Омск</td>\n",
       "      <td>ultra</td>\n",
       "    </tr>\n",
       "    <tr>\n",
       "      <th>2</th>\n",
       "      <td>3</td>\n",
       "      <td>Алексей</td>\n",
       "      <td>20</td>\n",
       "      <td>Москва</td>\n",
       "      <td>ultra</td>\n",
       "    </tr>\n",
       "    <tr>\n",
       "      <th>3</th>\n",
       "      <td>4</td>\n",
       "      <td>Константин</td>\n",
       "      <td>26</td>\n",
       "      <td>Ростов-на-Дону</td>\n",
       "      <td>ultra</td>\n",
       "    </tr>\n",
       "    <tr>\n",
       "      <th>4</th>\n",
       "      <td>5</td>\n",
       "      <td>Адель</td>\n",
       "      <td>28</td>\n",
       "      <td>Омск</td>\n",
       "      <td>ultra</td>\n",
       "    </tr>\n",
       "  </tbody>\n",
       "</table>\n",
       "</div>"
      ],
      "text/plain": [
       "   user_id        name  age            city subscription_type\n",
       "0        1        Кира   22          Тюмень             ultra\n",
       "1        2   Станислав   31            Омск             ultra\n",
       "2        3     Алексей   20          Москва             ultra\n",
       "3        4  Константин   26  Ростов-на-Дону             ultra\n",
       "4        5       Адель   28            Омск             ultra"
      ]
     },
     "execution_count": 2,
     "metadata": {},
     "output_type": "execute_result"
    }
   ],
   "source": [
    "users = pd.read_csv('users.csv', sep=',')\n",
    "users.head()"
   ]
  },
  {
   "cell_type": "code",
   "execution_count": 3,
   "id": "c691e893",
   "metadata": {},
   "outputs": [
    {
     "data": {
      "text/html": [
       "<div>\n",
       "<style scoped>\n",
       "    .dataframe tbody tr th:only-of-type {\n",
       "        vertical-align: middle;\n",
       "    }\n",
       "\n",
       "    .dataframe tbody tr th {\n",
       "        vertical-align: top;\n",
       "    }\n",
       "\n",
       "    .dataframe thead th {\n",
       "        text-align: right;\n",
       "    }\n",
       "</style>\n",
       "<table border=\"1\" class=\"dataframe\">\n",
       "  <thead>\n",
       "    <tr style=\"text-align: right;\">\n",
       "      <th></th>\n",
       "      <th>user_id</th>\n",
       "      <th>distance</th>\n",
       "      <th>duration</th>\n",
       "      <th>date</th>\n",
       "    </tr>\n",
       "  </thead>\n",
       "  <tbody>\n",
       "    <tr>\n",
       "      <th>0</th>\n",
       "      <td>1</td>\n",
       "      <td>4409.919140</td>\n",
       "      <td>25.599769</td>\n",
       "      <td>2021-01-01</td>\n",
       "    </tr>\n",
       "    <tr>\n",
       "      <th>1</th>\n",
       "      <td>1</td>\n",
       "      <td>2617.592153</td>\n",
       "      <td>15.816871</td>\n",
       "      <td>2021-01-18</td>\n",
       "    </tr>\n",
       "    <tr>\n",
       "      <th>2</th>\n",
       "      <td>1</td>\n",
       "      <td>754.159807</td>\n",
       "      <td>6.232113</td>\n",
       "      <td>2021-04-20</td>\n",
       "    </tr>\n",
       "    <tr>\n",
       "      <th>3</th>\n",
       "      <td>1</td>\n",
       "      <td>2694.783254</td>\n",
       "      <td>18.511000</td>\n",
       "      <td>2021-08-11</td>\n",
       "    </tr>\n",
       "    <tr>\n",
       "      <th>4</th>\n",
       "      <td>1</td>\n",
       "      <td>4028.687306</td>\n",
       "      <td>26.265803</td>\n",
       "      <td>2021-08-28</td>\n",
       "    </tr>\n",
       "  </tbody>\n",
       "</table>\n",
       "</div>"
      ],
      "text/plain": [
       "   user_id     distance   duration        date\n",
       "0        1  4409.919140  25.599769  2021-01-01\n",
       "1        1  2617.592153  15.816871  2021-01-18\n",
       "2        1   754.159807   6.232113  2021-04-20\n",
       "3        1  2694.783254  18.511000  2021-08-11\n",
       "4        1  4028.687306  26.265803  2021-08-28"
      ]
     },
     "execution_count": 3,
     "metadata": {},
     "output_type": "execute_result"
    }
   ],
   "source": [
    "rides = pd.read_csv('rides.csv', sep=',')\n",
    "rides.head()"
   ]
  },
  {
   "cell_type": "code",
   "execution_count": 4,
   "id": "f6be7093",
   "metadata": {},
   "outputs": [
    {
     "data": {
      "text/html": [
       "<div>\n",
       "<style scoped>\n",
       "    .dataframe tbody tr th:only-of-type {\n",
       "        vertical-align: middle;\n",
       "    }\n",
       "\n",
       "    .dataframe tbody tr th {\n",
       "        vertical-align: top;\n",
       "    }\n",
       "\n",
       "    .dataframe thead th {\n",
       "        text-align: right;\n",
       "    }\n",
       "</style>\n",
       "<table border=\"1\" class=\"dataframe\">\n",
       "  <thead>\n",
       "    <tr style=\"text-align: right;\">\n",
       "      <th></th>\n",
       "      <th>subscription_type</th>\n",
       "      <th>minute_price</th>\n",
       "      <th>start_ride_price</th>\n",
       "      <th>subscription_fee</th>\n",
       "    </tr>\n",
       "  </thead>\n",
       "  <tbody>\n",
       "    <tr>\n",
       "      <th>0</th>\n",
       "      <td>free</td>\n",
       "      <td>8</td>\n",
       "      <td>50</td>\n",
       "      <td>0</td>\n",
       "    </tr>\n",
       "    <tr>\n",
       "      <th>1</th>\n",
       "      <td>ultra</td>\n",
       "      <td>6</td>\n",
       "      <td>0</td>\n",
       "      <td>199</td>\n",
       "    </tr>\n",
       "  </tbody>\n",
       "</table>\n",
       "</div>"
      ],
      "text/plain": [
       "  subscription_type  minute_price  start_ride_price  subscription_fee\n",
       "0              free             8                50                 0\n",
       "1             ultra             6                 0               199"
      ]
     },
     "execution_count": 4,
     "metadata": {},
     "output_type": "execute_result"
    }
   ],
   "source": [
    "subscriptions = pd.read_csv('subscriptions.csv', sep=',')\n",
    "subscriptions"
   ]
  },
  {
   "cell_type": "markdown",
   "id": "dd9916bd",
   "metadata": {},
   "source": [
    "# 2. Предобработка данных <a id=\"#preprocessing\"></a> "
   ]
  },
  {
   "cell_type": "markdown",
   "id": "b12afe56",
   "metadata": {},
   "source": [
    "## 2.1. Общая предобработка"
   ]
  },
  {
   "cell_type": "markdown",
   "id": "2bb9ee62",
   "metadata": {},
   "source": [
    "Применим функцию, которая выведет общую информацию, количество пропусков и дубликатов."
   ]
  },
  {
   "cell_type": "code",
   "execution_count": 5,
   "id": "a7ebb663",
   "metadata": {},
   "outputs": [],
   "source": [
    "def preprocessing(x):\n",
    "    print('Общая информация:')\n",
    "    display(x.info())\n",
    "\n",
    "    print('Количество пропусков:')\n",
    "    display(x.isna().sum())\n",
    "    \n",
    "    print('Наличие дубликатов:')\n",
    "    display(x.duplicated().sum())"
   ]
  },
  {
   "cell_type": "code",
   "execution_count": 6,
   "id": "101243df",
   "metadata": {},
   "outputs": [
    {
     "name": "stdout",
     "output_type": "stream",
     "text": [
      "Общая информация:\n",
      "<class 'pandas.core.frame.DataFrame'>\n",
      "RangeIndex: 1565 entries, 0 to 1564\n",
      "Data columns (total 5 columns):\n",
      " #   Column             Non-Null Count  Dtype \n",
      "---  ------             --------------  ----- \n",
      " 0   user_id            1565 non-null   int64 \n",
      " 1   name               1565 non-null   object\n",
      " 2   age                1565 non-null   int64 \n",
      " 3   city               1565 non-null   object\n",
      " 4   subscription_type  1565 non-null   object\n",
      "dtypes: int64(2), object(3)\n",
      "memory usage: 61.3+ KB\n"
     ]
    },
    {
     "data": {
      "text/plain": [
       "None"
      ]
     },
     "metadata": {},
     "output_type": "display_data"
    },
    {
     "name": "stdout",
     "output_type": "stream",
     "text": [
      "Количество пропусков:\n"
     ]
    },
    {
     "data": {
      "text/plain": [
       "user_id              0\n",
       "name                 0\n",
       "age                  0\n",
       "city                 0\n",
       "subscription_type    0\n",
       "dtype: int64"
      ]
     },
     "metadata": {},
     "output_type": "display_data"
    },
    {
     "name": "stdout",
     "output_type": "stream",
     "text": [
      "Наличие дубликатов:\n"
     ]
    },
    {
     "data": {
      "text/plain": [
       "31"
      ]
     },
     "metadata": {},
     "output_type": "display_data"
    }
   ],
   "source": [
    "preprocessing(users);"
   ]
  },
  {
   "cell_type": "code",
   "execution_count": 7,
   "id": "17caeaac",
   "metadata": {},
   "outputs": [
    {
     "name": "stdout",
     "output_type": "stream",
     "text": [
      "Общая информация:\n",
      "<class 'pandas.core.frame.DataFrame'>\n",
      "RangeIndex: 18068 entries, 0 to 18067\n",
      "Data columns (total 4 columns):\n",
      " #   Column    Non-Null Count  Dtype  \n",
      "---  ------    --------------  -----  \n",
      " 0   user_id   18068 non-null  int64  \n",
      " 1   distance  18068 non-null  float64\n",
      " 2   duration  18068 non-null  float64\n",
      " 3   date      18068 non-null  object \n",
      "dtypes: float64(2), int64(1), object(1)\n",
      "memory usage: 564.8+ KB\n"
     ]
    },
    {
     "data": {
      "text/plain": [
       "None"
      ]
     },
     "metadata": {},
     "output_type": "display_data"
    },
    {
     "name": "stdout",
     "output_type": "stream",
     "text": [
      "Количество пропусков:\n"
     ]
    },
    {
     "data": {
      "text/plain": [
       "user_id     0\n",
       "distance    0\n",
       "duration    0\n",
       "date        0\n",
       "dtype: int64"
      ]
     },
     "metadata": {},
     "output_type": "display_data"
    },
    {
     "name": "stdout",
     "output_type": "stream",
     "text": [
      "Наличие дубликатов:\n"
     ]
    },
    {
     "data": {
      "text/plain": [
       "0"
      ]
     },
     "metadata": {},
     "output_type": "display_data"
    }
   ],
   "source": [
    "preprocessing(rides);"
   ]
  },
  {
   "cell_type": "code",
   "execution_count": 8,
   "id": "d122cdb1",
   "metadata": {},
   "outputs": [
    {
     "name": "stdout",
     "output_type": "stream",
     "text": [
      "Общая информация:\n",
      "<class 'pandas.core.frame.DataFrame'>\n",
      "RangeIndex: 2 entries, 0 to 1\n",
      "Data columns (total 4 columns):\n",
      " #   Column             Non-Null Count  Dtype \n",
      "---  ------             --------------  ----- \n",
      " 0   subscription_type  2 non-null      object\n",
      " 1   minute_price       2 non-null      int64 \n",
      " 2   start_ride_price   2 non-null      int64 \n",
      " 3   subscription_fee   2 non-null      int64 \n",
      "dtypes: int64(3), object(1)\n",
      "memory usage: 192.0+ bytes\n"
     ]
    },
    {
     "data": {
      "text/plain": [
       "None"
      ]
     },
     "metadata": {},
     "output_type": "display_data"
    },
    {
     "name": "stdout",
     "output_type": "stream",
     "text": [
      "Количество пропусков:\n"
     ]
    },
    {
     "data": {
      "text/plain": [
       "subscription_type    0\n",
       "minute_price         0\n",
       "start_ride_price     0\n",
       "subscription_fee     0\n",
       "dtype: int64"
      ]
     },
     "metadata": {},
     "output_type": "display_data"
    },
    {
     "name": "stdout",
     "output_type": "stream",
     "text": [
      "Наличие дубликатов:\n"
     ]
    },
    {
     "data": {
      "text/plain": [
       "0"
      ]
     },
     "metadata": {},
     "output_type": "display_data"
    }
   ],
   "source": [
    "preprocessing(subscriptions);"
   ]
  },
  {
   "cell_type": "markdown",
   "id": "19627f17",
   "metadata": {},
   "source": [
    "Пропуски в данных отсутствуют, однако был обнаружен 31 дубликат в данных о пользователях.\n",
    "\n",
    "Кроме того, в разделе «rides» в столбце «date» тип данных не соответствует."
   ]
  },
  {
   "cell_type": "markdown",
   "id": "f922fa36",
   "metadata": {},
   "source": [
    "## 2.2. Повышение качества данных"
   ]
  },
  {
   "cell_type": "markdown",
   "id": "64189d31",
   "metadata": {},
   "source": [
    "### 2.2.1. Удаление дубликатов"
   ]
  },
  {
   "cell_type": "markdown",
   "id": "2834f678",
   "metadata": {},
   "source": [
    "Выведем id пользователей, записи о которых дублируются."
   ]
  },
  {
   "cell_type": "code",
   "execution_count": 9,
   "id": "5cefd582",
   "metadata": {},
   "outputs": [
    {
     "data": {
      "text/plain": [
       "209     2\n",
       "807     2\n",
       "611     2\n",
       "43      2\n",
       "737     2\n",
       "47      2\n",
       "1198    2\n",
       "829     2\n",
       "924     2\n",
       "153     2\n",
       "635     2\n",
       "72      2\n",
       "909     2\n",
       "908     2\n",
       "136     2\n",
       "1045    2\n",
       "1237    2\n",
       "127     2\n",
       "659     2\n",
       "307     2\n",
       "1245    2\n",
       "121     2\n",
       "666     2\n",
       "108     2\n",
       "297     2\n",
       "809     2\n",
       "293     2\n",
       "16      2\n",
       "422     2\n",
       "403     2\n",
       "204     2\n",
       "Name: user_id, dtype: int64"
      ]
     },
     "execution_count": 9,
     "metadata": {},
     "output_type": "execute_result"
    }
   ],
   "source": [
    "users.user_id.value_counts().head(31)"
   ]
  },
  {
   "cell_type": "markdown",
   "id": "ec089877",
   "metadata": {},
   "source": [
    "Рассмотрим несколько случайных пользователей из этого списка."
   ]
  },
  {
   "cell_type": "code",
   "execution_count": 10,
   "id": "20b11f39",
   "metadata": {},
   "outputs": [
    {
     "data": {
      "text/html": [
       "<div>\n",
       "<style scoped>\n",
       "    .dataframe tbody tr th:only-of-type {\n",
       "        vertical-align: middle;\n",
       "    }\n",
       "\n",
       "    .dataframe tbody tr th {\n",
       "        vertical-align: top;\n",
       "    }\n",
       "\n",
       "    .dataframe thead th {\n",
       "        text-align: right;\n",
       "    }\n",
       "</style>\n",
       "<table border=\"1\" class=\"dataframe\">\n",
       "  <thead>\n",
       "    <tr style=\"text-align: right;\">\n",
       "      <th></th>\n",
       "      <th>user_id</th>\n",
       "      <th>name</th>\n",
       "      <th>age</th>\n",
       "      <th>city</th>\n",
       "      <th>subscription_type</th>\n",
       "    </tr>\n",
       "  </thead>\n",
       "  <tbody>\n",
       "    <tr>\n",
       "      <th>203</th>\n",
       "      <td>204</td>\n",
       "      <td>Руслан</td>\n",
       "      <td>30</td>\n",
       "      <td>Пятигорск</td>\n",
       "      <td>ultra</td>\n",
       "    </tr>\n",
       "    <tr>\n",
       "      <th>1542</th>\n",
       "      <td>204</td>\n",
       "      <td>Руслан</td>\n",
       "      <td>30</td>\n",
       "      <td>Пятигорск</td>\n",
       "      <td>ultra</td>\n",
       "    </tr>\n",
       "  </tbody>\n",
       "</table>\n",
       "</div>"
      ],
      "text/plain": [
       "      user_id    name  age       city subscription_type\n",
       "203       204  Руслан   30  Пятигорск             ultra\n",
       "1542      204  Руслан   30  Пятигорск             ultra"
      ]
     },
     "metadata": {},
     "output_type": "display_data"
    },
    {
     "data": {
      "text/html": [
       "<div>\n",
       "<style scoped>\n",
       "    .dataframe tbody tr th:only-of-type {\n",
       "        vertical-align: middle;\n",
       "    }\n",
       "\n",
       "    .dataframe tbody tr th {\n",
       "        vertical-align: top;\n",
       "    }\n",
       "\n",
       "    .dataframe thead th {\n",
       "        text-align: right;\n",
       "    }\n",
       "</style>\n",
       "<table border=\"1\" class=\"dataframe\">\n",
       "  <thead>\n",
       "    <tr style=\"text-align: right;\">\n",
       "      <th></th>\n",
       "      <th>user_id</th>\n",
       "      <th>name</th>\n",
       "      <th>age</th>\n",
       "      <th>city</th>\n",
       "      <th>subscription_type</th>\n",
       "    </tr>\n",
       "  </thead>\n",
       "  <tbody>\n",
       "    <tr>\n",
       "      <th>665</th>\n",
       "      <td>666</td>\n",
       "      <td>Зарина</td>\n",
       "      <td>29</td>\n",
       "      <td>Москва</td>\n",
       "      <td>ultra</td>\n",
       "    </tr>\n",
       "    <tr>\n",
       "      <th>1551</th>\n",
       "      <td>666</td>\n",
       "      <td>Зарина</td>\n",
       "      <td>29</td>\n",
       "      <td>Москва</td>\n",
       "      <td>ultra</td>\n",
       "    </tr>\n",
       "  </tbody>\n",
       "</table>\n",
       "</div>"
      ],
      "text/plain": [
       "      user_id    name  age    city subscription_type\n",
       "665       666  Зарина   29  Москва             ultra\n",
       "1551      666  Зарина   29  Москва             ultra"
      ]
     },
     "metadata": {},
     "output_type": "display_data"
    },
    {
     "data": {
      "text/html": [
       "<div>\n",
       "<style scoped>\n",
       "    .dataframe tbody tr th:only-of-type {\n",
       "        vertical-align: middle;\n",
       "    }\n",
       "\n",
       "    .dataframe tbody tr th {\n",
       "        vertical-align: top;\n",
       "    }\n",
       "\n",
       "    .dataframe thead th {\n",
       "        text-align: right;\n",
       "    }\n",
       "</style>\n",
       "<table border=\"1\" class=\"dataframe\">\n",
       "  <thead>\n",
       "    <tr style=\"text-align: right;\">\n",
       "      <th></th>\n",
       "      <th>user_id</th>\n",
       "      <th>name</th>\n",
       "      <th>age</th>\n",
       "      <th>city</th>\n",
       "      <th>subscription_type</th>\n",
       "    </tr>\n",
       "  </thead>\n",
       "  <tbody>\n",
       "    <tr>\n",
       "      <th>1197</th>\n",
       "      <td>1198</td>\n",
       "      <td>Демид</td>\n",
       "      <td>29</td>\n",
       "      <td>Ростов-на-Дону</td>\n",
       "      <td>free</td>\n",
       "    </tr>\n",
       "    <tr>\n",
       "      <th>1554</th>\n",
       "      <td>1198</td>\n",
       "      <td>Демид</td>\n",
       "      <td>29</td>\n",
       "      <td>Ростов-на-Дону</td>\n",
       "      <td>free</td>\n",
       "    </tr>\n",
       "  </tbody>\n",
       "</table>\n",
       "</div>"
      ],
      "text/plain": [
       "      user_id   name  age            city subscription_type\n",
       "1197     1198  Демид   29  Ростов-на-Дону              free\n",
       "1554     1198  Демид   29  Ростов-на-Дону              free"
      ]
     },
     "metadata": {},
     "output_type": "display_data"
    }
   ],
   "source": [
    "display(users[(users['user_id'] == 204)])\n",
    "display(users[(users['user_id'] == 666)])\n",
    "display(users[(users['user_id'] == 1198)])"
   ]
  },
  {
   "cell_type": "markdown",
   "id": "32832fb1",
   "metadata": {},
   "source": [
    "Возможно, это ошибка при сборе данных. Удалим выявленные дубликаты."
   ]
  },
  {
   "cell_type": "code",
   "execution_count": 11,
   "id": "b5a94be5",
   "metadata": {},
   "outputs": [
    {
     "name": "stdout",
     "output_type": "stream",
     "text": [
      "Пользователей до: 1565\n",
      "Пользователей после: 1534\n"
     ]
    }
   ],
   "source": [
    "print('Пользователей до:', users.shape[0])\n",
    "users = users.drop_duplicates()\n",
    "print('Пользователей после:', users.shape[0])"
   ]
  },
  {
   "cell_type": "markdown",
   "id": "d44fb8b1",
   "metadata": {},
   "source": [
    "### 2.2.2. Изменение типа данных"
   ]
  },
  {
   "cell_type": "markdown",
   "id": "00d6bcd9",
   "metadata": {},
   "source": [
    "Изменим тип данных в столбце 'date'."
   ]
  },
  {
   "cell_type": "code",
   "execution_count": 12,
   "id": "9bd02846",
   "metadata": {},
   "outputs": [
    {
     "name": "stdout",
     "output_type": "stream",
     "text": [
      "<class 'pandas.core.frame.DataFrame'>\n",
      "RangeIndex: 18068 entries, 0 to 18067\n",
      "Data columns (total 4 columns):\n",
      " #   Column    Non-Null Count  Dtype         \n",
      "---  ------    --------------  -----         \n",
      " 0   user_id   18068 non-null  int64         \n",
      " 1   distance  18068 non-null  float64       \n",
      " 2   duration  18068 non-null  float64       \n",
      " 3   date      18068 non-null  datetime64[ns]\n",
      "dtypes: datetime64[ns](1), float64(2), int64(1)\n",
      "memory usage: 564.8 KB\n"
     ]
    }
   ],
   "source": [
    "rides['date'] = pd.to_datetime(rides['date'], format = '%Y-%m-%d')\n",
    "rides.info()"
   ]
  },
  {
   "cell_type": "markdown",
   "id": "c6b3b462",
   "metadata": {},
   "source": [
    "## 2.3. Обогащение данных"
   ]
  },
  {
   "cell_type": "markdown",
   "id": "a9b2b03f",
   "metadata": {},
   "source": [
    "### 2.3.1. Создание столбца с номером месяца"
   ]
  },
  {
   "cell_type": "markdown",
   "id": "7c44bedd",
   "metadata": {},
   "source": [
    "Добавим в 'rides' столбец 'month_number' для указания номера месяца."
   ]
  },
  {
   "cell_type": "code",
   "execution_count": 13,
   "id": "82ed69e1",
   "metadata": {},
   "outputs": [
    {
     "data": {
      "text/html": [
       "<div>\n",
       "<style scoped>\n",
       "    .dataframe tbody tr th:only-of-type {\n",
       "        vertical-align: middle;\n",
       "    }\n",
       "\n",
       "    .dataframe tbody tr th {\n",
       "        vertical-align: top;\n",
       "    }\n",
       "\n",
       "    .dataframe thead th {\n",
       "        text-align: right;\n",
       "    }\n",
       "</style>\n",
       "<table border=\"1\" class=\"dataframe\">\n",
       "  <thead>\n",
       "    <tr style=\"text-align: right;\">\n",
       "      <th></th>\n",
       "      <th>user_id</th>\n",
       "      <th>distance</th>\n",
       "      <th>duration</th>\n",
       "      <th>date</th>\n",
       "      <th>month_number</th>\n",
       "    </tr>\n",
       "  </thead>\n",
       "  <tbody>\n",
       "    <tr>\n",
       "      <th>1037</th>\n",
       "      <td>111</td>\n",
       "      <td>3774.559883</td>\n",
       "      <td>24.098240</td>\n",
       "      <td>2021-07-30</td>\n",
       "      <td>7</td>\n",
       "    </tr>\n",
       "    <tr>\n",
       "      <th>8341</th>\n",
       "      <td>836</td>\n",
       "      <td>3400.949718</td>\n",
       "      <td>12.275317</td>\n",
       "      <td>2021-08-24</td>\n",
       "      <td>8</td>\n",
       "    </tr>\n",
       "    <tr>\n",
       "      <th>9211</th>\n",
       "      <td>902</td>\n",
       "      <td>3448.641921</td>\n",
       "      <td>19.794568</td>\n",
       "      <td>2021-04-07</td>\n",
       "      <td>4</td>\n",
       "    </tr>\n",
       "    <tr>\n",
       "      <th>6190</th>\n",
       "      <td>665</td>\n",
       "      <td>2421.985355</td>\n",
       "      <td>22.687941</td>\n",
       "      <td>2021-01-01</td>\n",
       "      <td>1</td>\n",
       "    </tr>\n",
       "    <tr>\n",
       "      <th>16816</th>\n",
       "      <td>1444</td>\n",
       "      <td>2609.576349</td>\n",
       "      <td>22.044199</td>\n",
       "      <td>2021-07-30</td>\n",
       "      <td>7</td>\n",
       "    </tr>\n",
       "    <tr>\n",
       "      <th>4199</th>\n",
       "      <td>452</td>\n",
       "      <td>4674.960486</td>\n",
       "      <td>27.763033</td>\n",
       "      <td>2021-11-07</td>\n",
       "      <td>11</td>\n",
       "    </tr>\n",
       "    <tr>\n",
       "      <th>15448</th>\n",
       "      <td>1351</td>\n",
       "      <td>1066.169039</td>\n",
       "      <td>16.205867</td>\n",
       "      <td>2021-10-30</td>\n",
       "      <td>10</td>\n",
       "    </tr>\n",
       "    <tr>\n",
       "      <th>16956</th>\n",
       "      <td>1456</td>\n",
       "      <td>4955.645677</td>\n",
       "      <td>17.866937</td>\n",
       "      <td>2021-03-12</td>\n",
       "      <td>3</td>\n",
       "    </tr>\n",
       "    <tr>\n",
       "      <th>6271</th>\n",
       "      <td>671</td>\n",
       "      <td>2989.513370</td>\n",
       "      <td>17.174832</td>\n",
       "      <td>2021-12-21</td>\n",
       "      <td>12</td>\n",
       "    </tr>\n",
       "    <tr>\n",
       "      <th>12850</th>\n",
       "      <td>1163</td>\n",
       "      <td>413.580537</td>\n",
       "      <td>5.378602</td>\n",
       "      <td>2021-12-19</td>\n",
       "      <td>12</td>\n",
       "    </tr>\n",
       "  </tbody>\n",
       "</table>\n",
       "</div>"
      ],
      "text/plain": [
       "       user_id     distance   duration       date  month_number\n",
       "1037       111  3774.559883  24.098240 2021-07-30             7\n",
       "8341       836  3400.949718  12.275317 2021-08-24             8\n",
       "9211       902  3448.641921  19.794568 2021-04-07             4\n",
       "6190       665  2421.985355  22.687941 2021-01-01             1\n",
       "16816     1444  2609.576349  22.044199 2021-07-30             7\n",
       "4199       452  4674.960486  27.763033 2021-11-07            11\n",
       "15448     1351  1066.169039  16.205867 2021-10-30            10\n",
       "16956     1456  4955.645677  17.866937 2021-03-12             3\n",
       "6271       671  2989.513370  17.174832 2021-12-21            12\n",
       "12850     1163   413.580537   5.378602 2021-12-19            12"
      ]
     },
     "execution_count": 13,
     "metadata": {},
     "output_type": "execute_result"
    }
   ],
   "source": [
    "rides['month_number'] = rides['date'].dt.month\n",
    "rides.sample(10)"
   ]
  },
  {
   "cell_type": "markdown",
   "id": "8320af0f",
   "metadata": {},
   "source": [
    "Проверим, за какой период у нас имеются данные о поездках."
   ]
  },
  {
   "cell_type": "code",
   "execution_count": 14,
   "id": "6413b8f0",
   "metadata": {},
   "outputs": [
    {
     "data": {
      "text/plain": [
       "min   2021-01-01\n",
       "max   2021-12-30\n",
       "Name: date, dtype: datetime64[ns]"
      ]
     },
     "execution_count": 14,
     "metadata": {},
     "output_type": "execute_result"
    }
   ],
   "source": [
    "rides.date.agg({'min','max'})"
   ]
  },
  {
   "cell_type": "markdown",
   "id": "7529a621",
   "metadata": {},
   "source": [
    "### 2.3.2. Создание переменных"
   ]
  },
  {
   "cell_type": "markdown",
   "id": "2694fa6d",
   "metadata": {},
   "source": [
    "Для исследования нам понадобятся более подробные и обогащенные данные, для этого создадим несколько новых переменных."
   ]
  },
  {
   "cell_type": "code",
   "execution_count": 15,
   "id": "280e1527",
   "metadata": {},
   "outputs": [
    {
     "name": "stdout",
     "output_type": "stream",
     "text": [
      "Объединим пользователей, тип подписки и их поездки для дальнейшего анализа\n",
      "В исходных данных у нас было 1534 пользователя и 18068 поездок\n",
      "После объединения у нас должно остаться такое же количество\n"
     ]
    }
   ],
   "source": [
    "print('Объединим пользователей, тип подписки и их поездки для дальнейшего анализа')\n",
    "print('В исходных данных у нас было', users.shape[0], 'пользователя и', rides.shape[0],'поездок')\n",
    "print('После объединения у нас должно остаться такое же количество')"
   ]
  },
  {
   "cell_type": "markdown",
   "id": "34279ae5",
   "metadata": {},
   "source": [
    "### 2.3.2.1. Обогащенные данные ('data')"
   ]
  },
  {
   "cell_type": "markdown",
   "id": "24ab2f18",
   "metadata": {},
   "source": [
    "Чтобы создать новую переменную с именем \"data\", объединим \"users\", \"rides\" и \"subscriptions\"."
   ]
  },
  {
   "cell_type": "code",
   "execution_count": 16,
   "id": "f2260d50",
   "metadata": {},
   "outputs": [],
   "source": [
    "data = users.merge(rides, on='user_id', how='outer')\n",
    "data = data.merge(subscriptions, on='subscription_type', how='outer')"
   ]
  },
  {
   "cell_type": "markdown",
   "id": "5c35fdc4",
   "metadata": {},
   "source": [
    "Проверим, что всё прошло успешно и потерь данных после объединения нет."
   ]
  },
  {
   "cell_type": "code",
   "execution_count": 17,
   "id": "a9fdd7f9",
   "metadata": {},
   "outputs": [
    {
     "data": {
      "text/html": [
       "<div>\n",
       "<style scoped>\n",
       "    .dataframe tbody tr th:only-of-type {\n",
       "        vertical-align: middle;\n",
       "    }\n",
       "\n",
       "    .dataframe tbody tr th {\n",
       "        vertical-align: top;\n",
       "    }\n",
       "\n",
       "    .dataframe thead th {\n",
       "        text-align: right;\n",
       "    }\n",
       "</style>\n",
       "<table border=\"1\" class=\"dataframe\">\n",
       "  <thead>\n",
       "    <tr style=\"text-align: right;\">\n",
       "      <th></th>\n",
       "      <th>user_id</th>\n",
       "      <th>name</th>\n",
       "      <th>age</th>\n",
       "      <th>city</th>\n",
       "      <th>subscription_type</th>\n",
       "      <th>distance</th>\n",
       "      <th>duration</th>\n",
       "      <th>date</th>\n",
       "      <th>month_number</th>\n",
       "      <th>minute_price</th>\n",
       "      <th>start_ride_price</th>\n",
       "      <th>subscription_fee</th>\n",
       "    </tr>\n",
       "  </thead>\n",
       "  <tbody>\n",
       "    <tr>\n",
       "      <th>7206</th>\n",
       "      <td>748</td>\n",
       "      <td>Борис</td>\n",
       "      <td>25</td>\n",
       "      <td>Москва</td>\n",
       "      <td>free</td>\n",
       "      <td>2106.123079</td>\n",
       "      <td>8.680274</td>\n",
       "      <td>2021-09-23</td>\n",
       "      <td>9</td>\n",
       "      <td>8</td>\n",
       "      <td>50</td>\n",
       "      <td>0</td>\n",
       "    </tr>\n",
       "    <tr>\n",
       "      <th>7486</th>\n",
       "      <td>770</td>\n",
       "      <td>Снежана</td>\n",
       "      <td>27</td>\n",
       "      <td>Краснодар</td>\n",
       "      <td>free</td>\n",
       "      <td>574.701419</td>\n",
       "      <td>4.814847</td>\n",
       "      <td>2021-08-10</td>\n",
       "      <td>8</td>\n",
       "      <td>8</td>\n",
       "      <td>50</td>\n",
       "      <td>0</td>\n",
       "    </tr>\n",
       "    <tr>\n",
       "      <th>2514</th>\n",
       "      <td>266</td>\n",
       "      <td>Анастасия</td>\n",
       "      <td>22</td>\n",
       "      <td>Москва</td>\n",
       "      <td>ultra</td>\n",
       "      <td>4050.622194</td>\n",
       "      <td>20.126555</td>\n",
       "      <td>2021-11-20</td>\n",
       "      <td>11</td>\n",
       "      <td>6</td>\n",
       "      <td>0</td>\n",
       "      <td>199</td>\n",
       "    </tr>\n",
       "    <tr>\n",
       "      <th>12942</th>\n",
       "      <td>1170</td>\n",
       "      <td>Глеб</td>\n",
       "      <td>22</td>\n",
       "      <td>Ростов-на-Дону</td>\n",
       "      <td>free</td>\n",
       "      <td>3751.166693</td>\n",
       "      <td>15.253500</td>\n",
       "      <td>2021-11-07</td>\n",
       "      <td>11</td>\n",
       "      <td>8</td>\n",
       "      <td>50</td>\n",
       "      <td>0</td>\n",
       "    </tr>\n",
       "    <tr>\n",
       "      <th>5804</th>\n",
       "      <td>618</td>\n",
       "      <td>Родион</td>\n",
       "      <td>20</td>\n",
       "      <td>Ростов-на-Дону</td>\n",
       "      <td>ultra</td>\n",
       "      <td>3170.660464</td>\n",
       "      <td>29.294512</td>\n",
       "      <td>2021-02-11</td>\n",
       "      <td>2</td>\n",
       "      <td>6</td>\n",
       "      <td>0</td>\n",
       "      <td>199</td>\n",
       "    </tr>\n",
       "  </tbody>\n",
       "</table>\n",
       "</div>"
      ],
      "text/plain": [
       "       user_id       name  age            city subscription_type     distance  \\\n",
       "7206       748      Борис   25          Москва              free  2106.123079   \n",
       "7486       770    Снежана   27       Краснодар              free   574.701419   \n",
       "2514       266  Анастасия   22          Москва             ultra  4050.622194   \n",
       "12942     1170       Глеб   22  Ростов-на-Дону              free  3751.166693   \n",
       "5804       618     Родион   20  Ростов-на-Дону             ultra  3170.660464   \n",
       "\n",
       "        duration       date  month_number  minute_price  start_ride_price  \\\n",
       "7206    8.680274 2021-09-23             9             8                50   \n",
       "7486    4.814847 2021-08-10             8             8                50   \n",
       "2514   20.126555 2021-11-20            11             6                 0   \n",
       "12942  15.253500 2021-11-07            11             8                50   \n",
       "5804   29.294512 2021-02-11             2             6                 0   \n",
       "\n",
       "       subscription_fee  \n",
       "7206                  0  \n",
       "7486                  0  \n",
       "2514                199  \n",
       "12942                 0  \n",
       "5804                199  "
      ]
     },
     "metadata": {},
     "output_type": "display_data"
    },
    {
     "name": "stdout",
     "output_type": "stream",
     "text": [
      "Количество строк после объединения: 18068\n",
      "Количество пользователей после объединения: 1534\n"
     ]
    }
   ],
   "source": [
    "display(data.sample(5))\n",
    "\n",
    "print('Количество строк после объединения:', data.shape[0])\n",
    "print('Количество пользователей после объединения:', data['user_id'].nunique())"
   ]
  },
  {
   "cell_type": "markdown",
   "id": "35c06514",
   "metadata": {},
   "source": [
    "Объединение прошло успешно."
   ]
  },
  {
   "cell_type": "markdown",
   "id": "fdf19769",
   "metadata": {},
   "source": [
    "### 2.3.2.2. Пользователи с подпиской ('subscription_ultra')"
   ]
  },
  {
   "cell_type": "markdown",
   "id": "14771466",
   "metadata": {},
   "source": [
    "На основании обогащенных данных создадим новую переменную для пользователей, у которых оформлена подписка."
   ]
  },
  {
   "cell_type": "code",
   "execution_count": 18,
   "id": "2bbed239",
   "metadata": {},
   "outputs": [
    {
     "data": {
      "text/html": [
       "<div>\n",
       "<style scoped>\n",
       "    .dataframe tbody tr th:only-of-type {\n",
       "        vertical-align: middle;\n",
       "    }\n",
       "\n",
       "    .dataframe tbody tr th {\n",
       "        vertical-align: top;\n",
       "    }\n",
       "\n",
       "    .dataframe thead th {\n",
       "        text-align: right;\n",
       "    }\n",
       "</style>\n",
       "<table border=\"1\" class=\"dataframe\">\n",
       "  <thead>\n",
       "    <tr style=\"text-align: right;\">\n",
       "      <th></th>\n",
       "      <th>user_id</th>\n",
       "      <th>name</th>\n",
       "      <th>age</th>\n",
       "      <th>city</th>\n",
       "      <th>subscription_type</th>\n",
       "      <th>distance</th>\n",
       "      <th>duration</th>\n",
       "      <th>date</th>\n",
       "      <th>month_number</th>\n",
       "      <th>minute_price</th>\n",
       "      <th>start_ride_price</th>\n",
       "      <th>subscription_fee</th>\n",
       "    </tr>\n",
       "  </thead>\n",
       "  <tbody>\n",
       "    <tr>\n",
       "      <th>0</th>\n",
       "      <td>1</td>\n",
       "      <td>Кира</td>\n",
       "      <td>22</td>\n",
       "      <td>Тюмень</td>\n",
       "      <td>ultra</td>\n",
       "      <td>4409.919140</td>\n",
       "      <td>25.599769</td>\n",
       "      <td>2021-01-01</td>\n",
       "      <td>1</td>\n",
       "      <td>6</td>\n",
       "      <td>0</td>\n",
       "      <td>199</td>\n",
       "    </tr>\n",
       "    <tr>\n",
       "      <th>1</th>\n",
       "      <td>1</td>\n",
       "      <td>Кира</td>\n",
       "      <td>22</td>\n",
       "      <td>Тюмень</td>\n",
       "      <td>ultra</td>\n",
       "      <td>2617.592153</td>\n",
       "      <td>15.816871</td>\n",
       "      <td>2021-01-18</td>\n",
       "      <td>1</td>\n",
       "      <td>6</td>\n",
       "      <td>0</td>\n",
       "      <td>199</td>\n",
       "    </tr>\n",
       "    <tr>\n",
       "      <th>2</th>\n",
       "      <td>1</td>\n",
       "      <td>Кира</td>\n",
       "      <td>22</td>\n",
       "      <td>Тюмень</td>\n",
       "      <td>ultra</td>\n",
       "      <td>754.159807</td>\n",
       "      <td>6.232113</td>\n",
       "      <td>2021-04-20</td>\n",
       "      <td>4</td>\n",
       "      <td>6</td>\n",
       "      <td>0</td>\n",
       "      <td>199</td>\n",
       "    </tr>\n",
       "    <tr>\n",
       "      <th>3</th>\n",
       "      <td>1</td>\n",
       "      <td>Кира</td>\n",
       "      <td>22</td>\n",
       "      <td>Тюмень</td>\n",
       "      <td>ultra</td>\n",
       "      <td>2694.783254</td>\n",
       "      <td>18.511000</td>\n",
       "      <td>2021-08-11</td>\n",
       "      <td>8</td>\n",
       "      <td>6</td>\n",
       "      <td>0</td>\n",
       "      <td>199</td>\n",
       "    </tr>\n",
       "    <tr>\n",
       "      <th>4</th>\n",
       "      <td>1</td>\n",
       "      <td>Кира</td>\n",
       "      <td>22</td>\n",
       "      <td>Тюмень</td>\n",
       "      <td>ultra</td>\n",
       "      <td>4028.687306</td>\n",
       "      <td>26.265803</td>\n",
       "      <td>2021-08-28</td>\n",
       "      <td>8</td>\n",
       "      <td>6</td>\n",
       "      <td>0</td>\n",
       "      <td>199</td>\n",
       "    </tr>\n",
       "  </tbody>\n",
       "</table>\n",
       "</div>"
      ],
      "text/plain": [
       "   user_id  name  age    city subscription_type     distance   duration  \\\n",
       "0        1  Кира   22  Тюмень             ultra  4409.919140  25.599769   \n",
       "1        1  Кира   22  Тюмень             ultra  2617.592153  15.816871   \n",
       "2        1  Кира   22  Тюмень             ultra   754.159807   6.232113   \n",
       "3        1  Кира   22  Тюмень             ultra  2694.783254  18.511000   \n",
       "4        1  Кира   22  Тюмень             ultra  4028.687306  26.265803   \n",
       "\n",
       "        date  month_number  minute_price  start_ride_price  subscription_fee  \n",
       "0 2021-01-01             1             6                 0               199  \n",
       "1 2021-01-18             1             6                 0               199  \n",
       "2 2021-04-20             4             6                 0               199  \n",
       "3 2021-08-11             8             6                 0               199  \n",
       "4 2021-08-28             8             6                 0               199  "
      ]
     },
     "metadata": {},
     "output_type": "display_data"
    }
   ],
   "source": [
    "subscription_ultra = data[(data['subscription_type'] == 'ultra')]\n",
    "display(subscription_ultra.head());"
   ]
  },
  {
   "cell_type": "markdown",
   "id": "bb7dc8c6",
   "metadata": {},
   "source": [
    "### 2.3.2.3. Пользователи без подписки ('subscription_free')"
   ]
  },
  {
   "cell_type": "markdown",
   "id": "757b9189",
   "metadata": {},
   "source": [
    "Также создадим переменную для пользователей, у которых нет подписки."
   ]
  },
  {
   "cell_type": "code",
   "execution_count": 19,
   "id": "d93935e0",
   "metadata": {},
   "outputs": [
    {
     "data": {
      "text/html": [
       "<div>\n",
       "<style scoped>\n",
       "    .dataframe tbody tr th:only-of-type {\n",
       "        vertical-align: middle;\n",
       "    }\n",
       "\n",
       "    .dataframe tbody tr th {\n",
       "        vertical-align: top;\n",
       "    }\n",
       "\n",
       "    .dataframe thead th {\n",
       "        text-align: right;\n",
       "    }\n",
       "</style>\n",
       "<table border=\"1\" class=\"dataframe\">\n",
       "  <thead>\n",
       "    <tr style=\"text-align: right;\">\n",
       "      <th></th>\n",
       "      <th>user_id</th>\n",
       "      <th>name</th>\n",
       "      <th>age</th>\n",
       "      <th>city</th>\n",
       "      <th>subscription_type</th>\n",
       "      <th>distance</th>\n",
       "      <th>duration</th>\n",
       "      <th>date</th>\n",
       "      <th>month_number</th>\n",
       "      <th>minute_price</th>\n",
       "      <th>start_ride_price</th>\n",
       "      <th>subscription_fee</th>\n",
       "    </tr>\n",
       "  </thead>\n",
       "  <tbody>\n",
       "    <tr>\n",
       "      <th>6500</th>\n",
       "      <td>700</td>\n",
       "      <td>Айдар</td>\n",
       "      <td>22</td>\n",
       "      <td>Омск</td>\n",
       "      <td>free</td>\n",
       "      <td>2515.690719</td>\n",
       "      <td>14.944286</td>\n",
       "      <td>2021-01-02</td>\n",
       "      <td>1</td>\n",
       "      <td>8</td>\n",
       "      <td>50</td>\n",
       "      <td>0</td>\n",
       "    </tr>\n",
       "    <tr>\n",
       "      <th>6501</th>\n",
       "      <td>700</td>\n",
       "      <td>Айдар</td>\n",
       "      <td>22</td>\n",
       "      <td>Омск</td>\n",
       "      <td>free</td>\n",
       "      <td>846.932642</td>\n",
       "      <td>16.234663</td>\n",
       "      <td>2021-02-01</td>\n",
       "      <td>2</td>\n",
       "      <td>8</td>\n",
       "      <td>50</td>\n",
       "      <td>0</td>\n",
       "    </tr>\n",
       "    <tr>\n",
       "      <th>6502</th>\n",
       "      <td>700</td>\n",
       "      <td>Айдар</td>\n",
       "      <td>22</td>\n",
       "      <td>Омск</td>\n",
       "      <td>free</td>\n",
       "      <td>4004.434142</td>\n",
       "      <td>20.016628</td>\n",
       "      <td>2021-02-04</td>\n",
       "      <td>2</td>\n",
       "      <td>8</td>\n",
       "      <td>50</td>\n",
       "      <td>0</td>\n",
       "    </tr>\n",
       "    <tr>\n",
       "      <th>6503</th>\n",
       "      <td>700</td>\n",
       "      <td>Айдар</td>\n",
       "      <td>22</td>\n",
       "      <td>Омск</td>\n",
       "      <td>free</td>\n",
       "      <td>1205.911290</td>\n",
       "      <td>9.782872</td>\n",
       "      <td>2021-02-10</td>\n",
       "      <td>2</td>\n",
       "      <td>8</td>\n",
       "      <td>50</td>\n",
       "      <td>0</td>\n",
       "    </tr>\n",
       "    <tr>\n",
       "      <th>6504</th>\n",
       "      <td>700</td>\n",
       "      <td>Айдар</td>\n",
       "      <td>22</td>\n",
       "      <td>Омск</td>\n",
       "      <td>free</td>\n",
       "      <td>3047.379435</td>\n",
       "      <td>17.427673</td>\n",
       "      <td>2021-02-14</td>\n",
       "      <td>2</td>\n",
       "      <td>8</td>\n",
       "      <td>50</td>\n",
       "      <td>0</td>\n",
       "    </tr>\n",
       "  </tbody>\n",
       "</table>\n",
       "</div>"
      ],
      "text/plain": [
       "      user_id   name  age  city subscription_type     distance   duration  \\\n",
       "6500      700  Айдар   22  Омск              free  2515.690719  14.944286   \n",
       "6501      700  Айдар   22  Омск              free   846.932642  16.234663   \n",
       "6502      700  Айдар   22  Омск              free  4004.434142  20.016628   \n",
       "6503      700  Айдар   22  Омск              free  1205.911290   9.782872   \n",
       "6504      700  Айдар   22  Омск              free  3047.379435  17.427673   \n",
       "\n",
       "           date  month_number  minute_price  start_ride_price  \\\n",
       "6500 2021-01-02             1             8                50   \n",
       "6501 2021-02-01             2             8                50   \n",
       "6502 2021-02-04             2             8                50   \n",
       "6503 2021-02-10             2             8                50   \n",
       "6504 2021-02-14             2             8                50   \n",
       "\n",
       "      subscription_fee  \n",
       "6500                 0  \n",
       "6501                 0  \n",
       "6502                 0  \n",
       "6503                 0  \n",
       "6504                 0  "
      ]
     },
     "metadata": {},
     "output_type": "display_data"
    }
   ],
   "source": [
    "subscription_free = data[(data['subscription_type'] == 'free')]\n",
    "display(subscription_free.head());"
   ]
  },
  {
   "cell_type": "markdown",
   "id": "4627d383",
   "metadata": {},
   "source": [
    "# 3. Исследовательский анализ данных <a id=\"analysis\"></a> "
   ]
  },
  {
   "cell_type": "markdown",
   "id": "e21d2b34",
   "metadata": {},
   "source": [
    "Проведем исследовательский анализ, где более подробно изучим общие данные о клиентах и их поездках. Затем проанализируем эти данные в зависимости от подписки."
   ]
  },
  {
   "cell_type": "markdown",
   "id": "48934492",
   "metadata": {},
   "source": [
    "Применим функцию, которая выведет общую числовую информацию и медианное значение."
   ]
  },
  {
   "cell_type": "code",
   "execution_count": 20,
   "id": "92a22a8a",
   "metadata": {},
   "outputs": [],
   "source": [
    "def describe_info(x):\n",
    "    print('Минимальное, максимальное и среднее значение:')\n",
    "    display(x.describe().round(2))\n",
    "\n",
    "    print('Медианное значение:')\n",
    "    display(x.median().round(2))"
   ]
  },
  {
   "cell_type": "markdown",
   "id": "f67a3572",
   "metadata": {},
   "source": [
    "## 3.1. Пользователи сервиса"
   ]
  },
  {
   "cell_type": "markdown",
   "id": "6b0019e7",
   "metadata": {},
   "source": [
    "### 3.1.1. Распределение пользователей по городам"
   ]
  },
  {
   "cell_type": "markdown",
   "id": "01ef4bd2",
   "metadata": {},
   "source": [
    "Рассмотрим, в каких городах живут и пользуются сервисом пользователи, и визуализируем эти данные в виде линейного графика."
   ]
  },
  {
   "cell_type": "code",
   "execution_count": 21,
   "id": "37b82e93",
   "metadata": {},
   "outputs": [
    {
     "data": {
      "text/plain": [
       "Пятигорск         219\n",
       "Екатеринбург      204\n",
       "Ростов-на-Дону    198\n",
       "Краснодар         193\n",
       "Сочи              189\n",
       "Омск              183\n",
       "Тюмень            180\n",
       "Москва            168\n",
       "Name: city, dtype: int64"
      ]
     },
     "metadata": {},
     "output_type": "display_data"
    }
   ],
   "source": [
    "display(users['city'].value_counts(ascending = False))"
   ]
  },
  {
   "cell_type": "code",
   "execution_count": 22,
   "id": "74c4c7b2",
   "metadata": {},
   "outputs": [
    {
     "data": {
      "image/png": "[encoded data removed]",
      "text/plain": [
       "<Figure size 1500x300 with 1 Axes>"
      ]
     },
     "metadata": {},
     "output_type": "display_data"
    }
   ],
   "source": [
    "users['city'].value_counts(ascending = True).plot(kind = 'barh', figsize = (15,3))\n",
    "\n",
    "plt.title('Распределение пользователей по городам')\n",
    "plt.xlabel('Кол-во пользователей')\n",
    "plt.ylabel('Названия города');"
   ]
  },
  {
   "cell_type": "markdown",
   "id": "a9dd007e",
   "metadata": {},
   "source": [
    "Из данных видим, что больше всего пользователей из Пятигорска — 219 человек. Меньше всего пользователей в Москве — 168 человек. Это довольно интересно, но разница не такая большая. Всего сервис используется в 8 городах России."
   ]
  },
  {
   "cell_type": "markdown",
   "id": "b439f7a0",
   "metadata": {},
   "source": [
    "### 3.1.2. Распределение пользователей по типу подписки"
   ]
  },
  {
   "cell_type": "markdown",
   "id": "ed6dda8e",
   "metadata": {},
   "source": [
    "Мы знаем, что мобильным приложение можно пользоваться:\n",
    "\n",
    "- без подписки:\n",
    "    - абонентская плата отсутствует;\n",
    "    - стоимость одной минуты поездки — 8 рублей;\n",
    "    - стоимость старта (начала поездки) — 50 рублей;\n",
    "\n",
    "- с подпиской Ultra:\n",
    "    - абонентская плата — 199 рублей в месяц;\n",
    "    - стоимость одной минуты поездки — 6 рублей;\n",
    "    - стоимость старта — бесплатно.\n",
    "\n",
    "Сравним количество пользователей с подпиской и без нее."
   ]
  },
  {
   "cell_type": "code",
   "execution_count": 23,
   "id": "ab6ee5e0",
   "metadata": {},
   "outputs": [
    {
     "data": {
      "text/plain": [
       "free     835\n",
       "ultra    699\n",
       "Name: subscription_type, dtype: int64"
      ]
     },
     "metadata": {},
     "output_type": "display_data"
    }
   ],
   "source": [
    "display(users['subscription_type'].value_counts())"
   ]
  },
  {
   "cell_type": "code",
   "execution_count": 24,
   "id": "1fd6fee2",
   "metadata": {},
   "outputs": [
    {
     "data": {
      "image/png": "[encoded data removed]",
      "text/plain": [
       "<Figure size 400x400 with 1 Axes>"
      ]
     },
     "metadata": {},
     "output_type": "display_data"
    }
   ],
   "source": [
    "users['subscription_type'].value_counts().plot(kind='pie', figsize=(4,4), autopct='%1.1f%%', legend=True)\n",
    "\n",
    "plt.title('Соотношение пользователей с подпиской (ultra) и без нее (free)')\n",
    "plt.ylabel('');"
   ]
  },
  {
   "cell_type": "markdown",
   "id": "0b49d408",
   "metadata": {},
   "source": [
    "Количество пользователей, не оформивших подписку, больше почти на 9%. Такой небольшой разрыв говорит о высокой популярности сервиса среди тех, кто предпочитает пользоваться платной подпиской, видимо, это выгодно."
   ]
  },
  {
   "cell_type": "markdown",
   "id": "f53729c7",
   "metadata": {},
   "source": [
    "Также изучим соотношение пользователей с подпиской и без в городах."
   ]
  },
  {
   "cell_type": "code",
   "execution_count": 25,
   "id": "a3731db5",
   "metadata": {},
   "outputs": [
    {
     "data": {
      "text/html": [
       "<div>\n",
       "<style scoped>\n",
       "    .dataframe tbody tr th:only-of-type {\n",
       "        vertical-align: middle;\n",
       "    }\n",
       "\n",
       "    .dataframe tbody tr th {\n",
       "        vertical-align: top;\n",
       "    }\n",
       "\n",
       "    .dataframe thead th {\n",
       "        text-align: right;\n",
       "    }\n",
       "</style>\n",
       "<table border=\"1\" class=\"dataframe\">\n",
       "  <thead>\n",
       "    <tr style=\"text-align: right;\">\n",
       "      <th></th>\n",
       "      <th>city</th>\n",
       "      <th>free</th>\n",
       "      <th>ultra</th>\n",
       "      <th>percentage_sub</th>\n",
       "    </tr>\n",
       "  </thead>\n",
       "  <tbody>\n",
       "    <tr>\n",
       "      <th>0</th>\n",
       "      <td>Екатеринбург</td>\n",
       "      <td>1585</td>\n",
       "      <td>876</td>\n",
       "      <td>55.27</td>\n",
       "    </tr>\n",
       "    <tr>\n",
       "      <th>1</th>\n",
       "      <td>Краснодар</td>\n",
       "      <td>1521</td>\n",
       "      <td>780</td>\n",
       "      <td>51.28</td>\n",
       "    </tr>\n",
       "    <tr>\n",
       "      <th>2</th>\n",
       "      <td>Москва</td>\n",
       "      <td>1175</td>\n",
       "      <td>700</td>\n",
       "      <td>59.57</td>\n",
       "    </tr>\n",
       "    <tr>\n",
       "      <th>3</th>\n",
       "      <td>Омск</td>\n",
       "      <td>1250</td>\n",
       "      <td>827</td>\n",
       "      <td>66.16</td>\n",
       "    </tr>\n",
       "    <tr>\n",
       "      <th>4</th>\n",
       "      <td>Пятигорск</td>\n",
       "      <td>1672</td>\n",
       "      <td>852</td>\n",
       "      <td>50.96</td>\n",
       "    </tr>\n",
       "    <tr>\n",
       "      <th>5</th>\n",
       "      <td>Ростов-на-Дону</td>\n",
       "      <td>1565</td>\n",
       "      <td>885</td>\n",
       "      <td>56.55</td>\n",
       "    </tr>\n",
       "    <tr>\n",
       "      <th>6</th>\n",
       "      <td>Сочи</td>\n",
       "      <td>1446</td>\n",
       "      <td>813</td>\n",
       "      <td>56.22</td>\n",
       "    </tr>\n",
       "    <tr>\n",
       "      <th>7</th>\n",
       "      <td>Тюмень</td>\n",
       "      <td>1354</td>\n",
       "      <td>767</td>\n",
       "      <td>56.65</td>\n",
       "    </tr>\n",
       "  </tbody>\n",
       "</table>\n",
       "</div>"
      ],
      "text/plain": [
       "             city  free  ultra  percentage_sub\n",
       "0    Екатеринбург  1585    876           55.27\n",
       "1       Краснодар  1521    780           51.28\n",
       "2          Москва  1175    700           59.57\n",
       "3            Омск  1250    827           66.16\n",
       "4       Пятигорск  1672    852           50.96\n",
       "5  Ростов-на-Дону  1565    885           56.55\n",
       "6            Сочи  1446    813           56.22\n",
       "7          Тюмень  1354    767           56.65"
      ]
     },
     "execution_count": 25,
     "metadata": {},
     "output_type": "execute_result"
    }
   ],
   "source": [
    "subscription_city = data.pivot_table(\n",
    "    index='city',\n",
    "    values ='name',\n",
    "    columns ='subscription_type', \n",
    "    aggfunc='count'\n",
    ").reset_index()\n",
    "\n",
    "subscription_city['percentage_sub'] = (subscription_city['ultra'] / subscription_city['free'] * 100).round(2)\n",
    "subscription_city.columns = ['city', 'free', 'ultra', 'percentage_sub']\n",
    "\n",
    "subscription_city"
   ]
  },
  {
   "cell_type": "markdown",
   "id": "1239b099",
   "metadata": {},
   "source": [
    "В большинстве городов соотношение примерно одинаковое. Однако в Омске пользователей с подпиской больше всего, а в Пятигорске — меньше всего."
   ]
  },
  {
   "cell_type": "markdown",
   "id": "1a0ec7f9",
   "metadata": {},
   "source": [
    "### 3.1.3.  Распределение возраста пользователей"
   ]
  },
  {
   "cell_type": "markdown",
   "id": "8f1ce8c4",
   "metadata": {},
   "source": [
    "Изучим распределение возраста пользователей сервиса."
   ]
  },
  {
   "cell_type": "code",
   "execution_count": 26,
   "id": "88a82fd2",
   "metadata": {},
   "outputs": [
    {
     "name": "stdout",
     "output_type": "stream",
     "text": [
      "Минимальное, максимальное и среднее значение:\n"
     ]
    },
    {
     "data": {
      "text/plain": [
       "count    1534.00\n",
       "mean       24.90\n",
       "std         4.57\n",
       "min        12.00\n",
       "25%        22.00\n",
       "50%        25.00\n",
       "75%        28.00\n",
       "max        43.00\n",
       "Name: age, dtype: float64"
      ]
     },
     "metadata": {},
     "output_type": "display_data"
    },
    {
     "name": "stdout",
     "output_type": "stream",
     "text": [
      "Медианное значение:\n"
     ]
    },
    {
     "data": {
      "text/plain": [
       "25.0"
      ]
     },
     "metadata": {},
     "output_type": "display_data"
    },
    {
     "data": {
      "image/png": "[encoded data removed]",
      "text/plain": [
       "<Figure size 1500x300 with 1 Axes>"
      ]
     },
     "metadata": {},
     "output_type": "display_data"
    }
   ],
   "source": [
    "describe_info(users['age'])\n",
    "\n",
    "users['age'].plot(\n",
    "    kind='hist',\n",
    "    range=(10, 45),\n",
    "    bins=70, \n",
    "    linewidth=5, \n",
    "    alpha=1.0, \n",
    "    figsize=(15,3),\n",
    ")\n",
    "\n",
    "plt.title('Распределение возраста пользователей')\n",
    "plt.xlabel('Кол-во лет')\n",
    "plt.ylabel('Кол-во пользователей');"
   ]
  },
  {
   "cell_type": "markdown",
   "id": "dfd0f3f9",
   "metadata": {},
   "source": [
    "Возраст большинства пользователей сервиса от 21 до 28 лет. Средний возраст — 25 лет. Самому младшему пользователю 12 лет, а самому старшему — 43 года."
   ]
  },
  {
   "cell_type": "markdown",
   "id": "4e2009cd",
   "metadata": {},
   "source": [
    "## 3.2. Совершенные поездки"
   ]
  },
  {
   "cell_type": "markdown",
   "id": "d76cf525",
   "metadata": {},
   "source": [
    "### 3.2.1. Дистанция поездки"
   ]
  },
  {
   "cell_type": "markdown",
   "id": "dc3975e1",
   "metadata": {},
   "source": [
    "Изучим, какое расстояние преодолевают пользователи за одну поездку."
   ]
  },
  {
   "cell_type": "code",
   "execution_count": 27,
   "id": "96aef033",
   "metadata": {},
   "outputs": [
    {
     "name": "stdout",
     "output_type": "stream",
     "text": [
      "Минимальное, максимальное и среднее значение:\n"
     ]
    },
    {
     "data": {
      "text/plain": [
       "count    18068.00\n",
       "mean      3070.66\n",
       "std       1116.83\n",
       "min          0.86\n",
       "25%       2543.23\n",
       "50%       3133.61\n",
       "75%       3776.22\n",
       "max       7211.01\n",
       "Name: distance, dtype: float64"
      ]
     },
     "metadata": {},
     "output_type": "display_data"
    },
    {
     "name": "stdout",
     "output_type": "stream",
     "text": [
      "Медианное значение:\n"
     ]
    },
    {
     "data": {
      "text/plain": [
       "3133.61"
      ]
     },
     "metadata": {},
     "output_type": "display_data"
    },
    {
     "data": {
      "image/png": "[encoded data removed]",
      "text/plain": [
       "<Figure size 1500x300 with 1 Axes>"
      ]
     },
     "metadata": {},
     "output_type": "display_data"
    }
   ],
   "source": [
    "describe_info(rides['distance'])\n",
    "\n",
    "rides['distance'].plot(\n",
    "    kind='hist',\n",
    "    bins=100, \n",
    "    linewidth=5, \n",
    "    alpha=1.0,\n",
    "    figsize=(15,3)\n",
    ")\n",
    "\n",
    "plt.title('Распределение расстояния совершенных поездок')\n",
    "plt.xlabel('Расстояние (м)')\n",
    "plt.ylabel('Кол-во поездок');"
   ]
  },
  {
   "cell_type": "markdown",
   "id": "9745ac5d",
   "metadata": {},
   "source": [
    "На графике можно увидеть два разных пика: один от 0 до 1 км, а другой от 2 до 5 км. Самый высокий пик находится на уровне среднего значения в 3133 метра. При этом пользователи не проезжают больше 7 километров за один раз."
   ]
  },
  {
   "cell_type": "markdown",
   "id": "f68ab34c",
   "metadata": {},
   "source": [
    "### 3.2.2. Длительность поездки"
   ]
  },
  {
   "cell_type": "markdown",
   "id": "5d5e59d0",
   "metadata": {},
   "source": [
    "Также, как и с расстоянием, рассмотрим, сколько времени пользователи обычно тратят на поездку."
   ]
  },
  {
   "cell_type": "code",
   "execution_count": 28,
   "id": "7ca04d97",
   "metadata": {},
   "outputs": [
    {
     "name": "stdout",
     "output_type": "stream",
     "text": [
      "Минимальное, максимальное и среднее значение:\n"
     ]
    },
    {
     "data": {
      "text/plain": [
       "count    18068.00\n",
       "mean        17.81\n",
       "std          6.09\n",
       "min          0.50\n",
       "25%         13.60\n",
       "50%         17.68\n",
       "75%         21.72\n",
       "max         40.82\n",
       "Name: duration, dtype: float64"
      ]
     },
     "metadata": {},
     "output_type": "display_data"
    },
    {
     "name": "stdout",
     "output_type": "stream",
     "text": [
      "Медианное значение:\n"
     ]
    },
    {
     "data": {
      "text/plain": [
       "17.68"
      ]
     },
     "metadata": {},
     "output_type": "display_data"
    },
    {
     "data": {
      "image/png": "[encoded data removed]",
      "text/plain": [
       "<Figure size 1500x300 with 1 Axes>"
      ]
     },
     "metadata": {},
     "output_type": "display_data"
    }
   ],
   "source": [
    "describe_info(rides['duration'])\n",
    "\n",
    "rides['duration'].plot(kind='hist', bins=100, linewidth=5, alpha=1.0, figsize=(15,3))\n",
    "\n",
    "plt.title('Распределение продолжительности поездок')\n",
    "plt.xlabel('Продолжительность (минут)')\n",
    "plt.ylabel('Кол-во поездок');"
   ]
  },
  {
   "cell_type": "markdown",
   "id": "43dfa71f",
   "metadata": {},
   "source": [
    "На графике заметен аномальный скачек примерно в 1 минуту, изучим его подробнее."
   ]
  },
  {
   "cell_type": "code",
   "execution_count": 29,
   "id": "d0db832b",
   "metadata": {},
   "outputs": [
    {
     "data": {
      "image/png": "[encoded data removed]",
      "text/plain": [
       "<Figure size 1500x300 with 1 Axes>"
      ]
     },
     "metadata": {},
     "output_type": "display_data"
    }
   ],
   "source": [
    "rides['duration'].plot(kind='hist', range=(0, 8), bins=100, linewidth=5, alpha=1.0, figsize=(15,3))\n",
    "\n",
    "plt.title('Продолжительность поездок')\n",
    "plt.xlabel('Продолжительность (минут)')\n",
    "plt.ylabel('Кол-во поездок');"
   ]
  },
  {
   "cell_type": "markdown",
   "id": "552449d9",
   "metadata": {},
   "source": [
    "Странные поездки длились по 30 секунд, а всего таких поездок было 95. Возможно, это какие-то технические поездки или ошибки, которые не стоит учитывать в исследовании. Изучим их более подробно и узнаем, у какого типа подписки такие поездки были чаще."
   ]
  },
  {
   "cell_type": "code",
   "execution_count": 30,
   "id": "7ca390ac",
   "metadata": {},
   "outputs": [
    {
     "name": "stdout",
     "output_type": "stream",
     "text": [
      "Подписка: free    95\n",
      "Name: subscription_type, dtype: int64\n",
      "\n",
      "Пользователи совершившие такую поездку: 90\n"
     ]
    }
   ],
   "source": [
    "print('Подписка:', data.query('duration == 0.5')['subscription_type'].value_counts())\n",
    "print()\n",
    "print('Пользователи совершившие такую поездку:', data.query('duration == 0.5')['user_id'].nunique())"
   ]
  },
  {
   "cell_type": "markdown",
   "id": "4a036b92",
   "metadata": {},
   "source": [
    "Все 95 поездок в 30 секунд только у 90 разных пользователей без подписки. Стоимость старта для пользователей без подписки составляет 50 рублей, возможно, при старте у них заканчивались деньги, либо такая стоимость поездки их напугала."
   ]
  },
  {
   "cell_type": "markdown",
   "id": "ea49b0b2",
   "metadata": {},
   "source": [
    "В среднем поездка у пользователей занимает почти 18 минут. Большинство пользователей проводят в дороге от 13 до 22 минут. Минимальный промежуток времени без аномалий составляет 2 минуты, а максимальный — 41 минуту."
   ]
  },
  {
   "cell_type": "markdown",
   "id": "345daa19",
   "metadata": {},
   "source": [
    "## 3.3. Поездки пользователей с разным типом подписки"
   ]
  },
  {
   "cell_type": "markdown",
   "id": "b71eb23e",
   "metadata": {},
   "source": [
    "Рассмотрим, на какие расстояния и в течение какого времени перемещаются пользователи с разными типами подписки."
   ]
  },
  {
   "cell_type": "markdown",
   "id": "2462dcb0",
   "metadata": {},
   "source": [
    "### 3.3.1. Дистанция поездки"
   ]
  },
  {
   "cell_type": "markdown",
   "id": "9bcf851c",
   "metadata": {},
   "source": [
    "Рассмотрим, какое расстояние преодолевают пользователи с подпиской во время своих поездок."
   ]
  },
  {
   "cell_type": "code",
   "execution_count": 31,
   "id": "7620b7bb",
   "metadata": {},
   "outputs": [
    {
     "name": "stdout",
     "output_type": "stream",
     "text": [
      "Минимальное, максимальное и среднее значение:\n"
     ]
    },
    {
     "data": {
      "text/plain": [
       "count    6500.00\n",
       "mean     3115.45\n",
       "std       836.90\n",
       "min       244.21\n",
       "25%      2785.44\n",
       "50%      3148.64\n",
       "75%      3560.57\n",
       "max      5699.77\n",
       "Name: distance, dtype: float64"
      ]
     },
     "metadata": {},
     "output_type": "display_data"
    },
    {
     "name": "stdout",
     "output_type": "stream",
     "text": [
      "Медианное значение:\n"
     ]
    },
    {
     "data": {
      "text/plain": [
       "3148.64"
      ]
     },
     "metadata": {},
     "output_type": "display_data"
    }
   ],
   "source": [
    "describe_info(subscription_ultra['distance'])"
   ]
  },
  {
   "cell_type": "markdown",
   "id": "65630189",
   "metadata": {},
   "source": [
    "А также пользователей без подписки."
   ]
  },
  {
   "cell_type": "code",
   "execution_count": 32,
   "id": "4643a89e",
   "metadata": {},
   "outputs": [
    {
     "name": "stdout",
     "output_type": "stream",
     "text": [
      "Минимальное, максимальное и среднее значение:\n"
     ]
    },
    {
     "data": {
      "text/plain": [
       "count    11568.00\n",
       "mean      3045.50\n",
       "std       1246.17\n",
       "min          0.86\n",
       "25%       2366.56\n",
       "50%       3114.65\n",
       "75%       3905.70\n",
       "max       7211.01\n",
       "Name: distance, dtype: float64"
      ]
     },
     "metadata": {},
     "output_type": "display_data"
    },
    {
     "name": "stdout",
     "output_type": "stream",
     "text": [
      "Медианное значение:\n"
     ]
    },
    {
     "data": {
      "text/plain": [
       "3114.65"
      ]
     },
     "metadata": {},
     "output_type": "display_data"
    }
   ],
   "source": [
    "describe_info(subscription_free['distance'])"
   ]
  },
  {
   "cell_type": "markdown",
   "id": "ddfcf1ad",
   "metadata": {},
   "source": [
    "Построим график и сравним распределение преодоленного расстояния между двумя группами пользователей."
   ]
  },
  {
   "cell_type": "code",
   "execution_count": 33,
   "id": "2006cf4f",
   "metadata": {},
   "outputs": [
    {
     "data": {
      "image/png": "[encoded data removed]",
      "text/plain": [
       "<Figure size 1500x500 with 1 Axes>"
      ]
     },
     "metadata": {},
     "output_type": "display_data"
    }
   ],
   "source": [
    "ax = subscription_free.plot(\n",
    "    kind='hist',\n",
    "    y='distance', \n",
    "    histtype='bar',\n",
    "    bins=150,\n",
    "    linewidth=5,\n",
    "    alpha=1,\n",
    "    label='Без подписки (free)',\n",
    "    figsize=(15,5),\n",
    ") \n",
    "\n",
    "subscription_ultra.plot(\n",
    "    kind='hist',\n",
    "    y='distance',\n",
    "    histtype='bar',\n",
    "    bins=150,\n",
    "    linewidth=5,\n",
    "    alpha=0.8,\n",
    "    label='С подпиской (ultra)',\n",
    "    ax=ax, \n",
    "    grid=True, \n",
    "    legend=True,\n",
    "    figsize=(15,5),\n",
    ")\n",
    "\n",
    "plt.title('Сравнение расстояния поездки в зависимости от типа подписки')\n",
    "plt.xlabel('Расстояние (метров)')\n",
    "plt.ylabel('Кол-во поездок');"
   ]
  },
  {
   "cell_type": "markdown",
   "id": "8429eaa3",
   "metadata": {},
   "source": [
    "В целом показатели схожи, но есть некоторые отличия.\n",
    "\n",
    "Если смотреть на числовые данные, то видно, что количество поездок у пользователей с подпиской и без подписки отличается почти в два раза. За определённый период времени пользователи без подписки совершили 11 568 поездок, а с подпиской — 6500 поездок.\n",
    "\n",
    "Средняя продолжительность поездок тоже близка: пользователи с подпиской проезжают в среднем 3148 метров, а без подписки — 3114 метров. Однако заметно, что у пользователей с разными типами подписки есть большая разница между минимальной и максимальной продолжительностью поездки.\n",
    "\n",
    "На графике мы видим два пика у пользователей без подписки: первый — в диапазоне от 0 до 1 километра, второй — от 2 до 5 километров. Максимальная продолжительность поездки составляет 7 километров. Пользователи без подписки также часто совершают небольшие поездки до одного километра. У пользователей с подпиской есть только один пик на графике, и они совершают поездки чаще всего на расстояние от 2,5 до 4 километров."
   ]
  },
  {
   "cell_type": "markdown",
   "id": "37625363",
   "metadata": {},
   "source": [
    "### 3.3.2. Длительность поездки"
   ]
  },
  {
   "cell_type": "markdown",
   "id": "b3426bc1",
   "metadata": {},
   "source": [
    "Рассмотрим продолжительность поездок пользователей с подпиской."
   ]
  },
  {
   "cell_type": "code",
   "execution_count": 34,
   "id": "8c894313",
   "metadata": {},
   "outputs": [
    {
     "name": "stdout",
     "output_type": "stream",
     "text": [
      "Минимальное, максимальное и среднее значение:\n"
     ]
    },
    {
     "data": {
      "text/plain": [
       "count    6500.00\n",
       "mean       18.54\n",
       "std         5.57\n",
       "min         3.76\n",
       "25%        14.52\n",
       "50%        18.18\n",
       "75%        21.88\n",
       "max        40.82\n",
       "Name: duration, dtype: float64"
      ]
     },
     "metadata": {},
     "output_type": "display_data"
    },
    {
     "name": "stdout",
     "output_type": "stream",
     "text": [
      "Медианное значение:\n"
     ]
    },
    {
     "data": {
      "text/plain": [
       "18.18"
      ]
     },
     "metadata": {},
     "output_type": "display_data"
    }
   ],
   "source": [
    "describe_info(subscription_ultra['duration'])"
   ]
  },
  {
   "cell_type": "markdown",
   "id": "0324b930",
   "metadata": {},
   "source": [
    "Продолжительность поездок пользователей без подписки."
   ]
  },
  {
   "cell_type": "code",
   "execution_count": 35,
   "id": "b9597f5f",
   "metadata": {},
   "outputs": [
    {
     "name": "stdout",
     "output_type": "stream",
     "text": [
      "Минимальное, максимальное и среднее значение:\n"
     ]
    },
    {
     "data": {
      "text/plain": [
       "count    11568.00\n",
       "mean        17.39\n",
       "std          6.33\n",
       "min          0.50\n",
       "25%         12.96\n",
       "50%         17.33\n",
       "75%         21.59\n",
       "max         34.95\n",
       "Name: duration, dtype: float64"
      ]
     },
     "metadata": {},
     "output_type": "display_data"
    },
    {
     "name": "stdout",
     "output_type": "stream",
     "text": [
      "Медианное значение:\n"
     ]
    },
    {
     "data": {
      "text/plain": [
       "17.33"
      ]
     },
     "metadata": {},
     "output_type": "display_data"
    }
   ],
   "source": [
    "describe_info(subscription_free['duration'])"
   ]
  },
  {
   "cell_type": "markdown",
   "id": "3ed4223f",
   "metadata": {},
   "source": [
    "Построим график и сравним распределение преодоленной дистанции с подпиской и без нее."
   ]
  },
  {
   "cell_type": "code",
   "execution_count": 36,
   "id": "faac18ff",
   "metadata": {},
   "outputs": [
    {
     "data": {
      "image/png": "[encoded data removed]",
      "text/plain": [
       "<Figure size 1500x500 with 1 Axes>"
      ]
     },
     "metadata": {},
     "output_type": "display_data"
    }
   ],
   "source": [
    "ax = subscription_free.plot(\n",
    "    kind='hist',\n",
    "    y='duration', \n",
    "    histtype='bar',\n",
    "    bins=150,\n",
    "    linewidth=5,\n",
    "    alpha=1,\n",
    "    label='Без подписки (free)',\n",
    "    figsize=(15,5),\n",
    ") \n",
    "\n",
    "subscription_ultra.plot(\n",
    "    kind='hist',\n",
    "    y='duration',\n",
    "    histtype='bar',\n",
    "    bins=150,\n",
    "    linewidth=5,\n",
    "    alpha=0.8,\n",
    "    label='С подпиской (ultra)',\n",
    "    ax=ax, \n",
    "    grid=True, \n",
    "    legend=True,\n",
    "    figsize=(15,5),\n",
    ")\n",
    "\n",
    "plt.title('Сравнение длительности поездки в зависимости от типа подписки')\n",
    "plt.xlabel('Длительность (минут)')\n",
    "plt.ylabel('Кол-во поездок');"
   ]
  },
  {
   "cell_type": "markdown",
   "id": "b34ef6f2",
   "metadata": {},
   "source": [
    "При изучении продолжительности поездок по типу подписки общий тренд сохраняется, но есть несколько интересных открытий.\n",
    "\n",
    "Средняя продолжительность поездок у пользователей с подпиской составляет 18 минут, в то время как пользователи без подписки проезжают в среднем 17 минут за поездку. Важный момент, что пользователи с подпиской совершают более долгие поездки, до 40 минут, когда максимальная поездка пользователей без подписки составляет 35 минут.\n",
    "\n",
    "Это говорит о том, что пользователи с бесплатной подпиской проезжают расстояние быстрее и, вероятно, менее внимательно относятся к состоянию самоката. В то время, как пользователи с подпиской более осторожны и аккуратны."
   ]
  },
  {
   "cell_type": "markdown",
   "id": "ff91a848",
   "metadata": {},
   "source": [
    "### 3.3.3. Количество поездок"
   ]
  },
  {
   "cell_type": "markdown",
   "id": "b3ae1538",
   "metadata": {},
   "source": [
    "### 3.3.3.1. Общее количество поездок у каждого пользователя"
   ]
  },
  {
   "cell_type": "markdown",
   "id": "f8a2a27e",
   "metadata": {},
   "source": [
    "Узнаем общее количество поездок за всё время у каждого пользователя с подпиской."
   ]
  },
  {
   "cell_type": "code",
   "execution_count": 37,
   "id": "0e74395a",
   "metadata": {},
   "outputs": [
    {
     "name": "stdout",
     "output_type": "stream",
     "text": [
      "Минимальное, максимальное и среднее значение:\n"
     ]
    },
    {
     "data": {
      "text/plain": [
       "count    699.00\n",
       "mean       9.30\n",
       "std        3.19\n",
       "min        2.00\n",
       "25%        7.00\n",
       "50%        9.00\n",
       "75%       11.00\n",
       "max       21.00\n",
       "Name: count_rides, dtype: float64"
      ]
     },
     "metadata": {},
     "output_type": "display_data"
    },
    {
     "name": "stdout",
     "output_type": "stream",
     "text": [
      "Медианное значение:\n"
     ]
    },
    {
     "data": {
      "text/plain": [
       "9.0"
      ]
     },
     "metadata": {},
     "output_type": "display_data"
    }
   ],
   "source": [
    "ultra_count_rides = subscription_ultra.pivot_table(index='user_id', values='date', aggfunc='count').reset_index()\n",
    "ultra_count_rides.columns = ['user_id', 'count_rides']\n",
    "\n",
    "describe_info(ultra_count_rides['count_rides'])"
   ]
  },
  {
   "cell_type": "markdown",
   "id": "4244741c",
   "metadata": {},
   "source": [
    "Узнаем общее количество поездок за всё время у каждого пользователя без подписки."
   ]
  },
  {
   "cell_type": "code",
   "execution_count": 38,
   "id": "45a8bd13",
   "metadata": {},
   "outputs": [
    {
     "name": "stdout",
     "output_type": "stream",
     "text": [
      "Минимальное, максимальное и среднее значение:\n"
     ]
    },
    {
     "data": {
      "text/plain": [
       "count    835.00\n",
       "mean      13.85\n",
       "std        3.71\n",
       "min        4.00\n",
       "25%       11.50\n",
       "50%       14.00\n",
       "75%       16.00\n",
       "max       27.00\n",
       "Name: count_rides, dtype: float64"
      ]
     },
     "metadata": {},
     "output_type": "display_data"
    },
    {
     "name": "stdout",
     "output_type": "stream",
     "text": [
      "Медианное значение:\n"
     ]
    },
    {
     "data": {
      "text/plain": [
       "14.0"
      ]
     },
     "metadata": {},
     "output_type": "display_data"
    }
   ],
   "source": [
    "free_count_rides = subscription_free.pivot_table(index='user_id', values='date', aggfunc='count').reset_index()\n",
    "free_count_rides.columns = ['user_id', 'count_rides']\n",
    "\n",
    "describe_info(free_count_rides['count_rides'])"
   ]
  },
  {
   "cell_type": "markdown",
   "id": "7e9f9ca7",
   "metadata": {},
   "source": [
    "Визуализируем данные и построим столбчатый график для наглядного сравнения."
   ]
  },
  {
   "cell_type": "code",
   "execution_count": 39,
   "id": "609fa114",
   "metadata": {},
   "outputs": [
    {
     "data": {
      "image/png": "[encoded data removed]",
      "text/plain": [
       "<Figure size 1500x500 with 1 Axes>"
      ]
     },
     "metadata": {},
     "output_type": "display_data"
    }
   ],
   "source": [
    "ax = free_count_rides.plot(\n",
    "    kind='hist',\n",
    "    y='count_rides', \n",
    "    histtype='bar',\n",
    "    linewidth=5,\n",
    "    alpha=1,\n",
    "    label='Без подписки (free)',\n",
    "    figsize=(15,5)\n",
    ") \n",
    "\n",
    "ultra_count_rides.plot(\n",
    "    kind='hist',\n",
    "    y='count_rides',\n",
    "    histtype='bar',\n",
    "    linewidth=5,\n",
    "    alpha=0.8,\n",
    "    label='С подпиской (ultra)',\n",
    "    ax=ax, \n",
    "    grid=True, \n",
    "    legend=True,\n",
    "    figsize=(15,5)\n",
    ")\n",
    "\n",
    "plt.title('Сравнение количества поездок пользователей за все время в зависимости от типа подписки')\n",
    "plt.xlabel('Кол-во поездок')\n",
    "plt.ylabel('Кол-во пользователей');"
   ]
  },
  {
   "cell_type": "markdown",
   "id": "2ee5348d",
   "metadata": {},
   "source": [
    "Можно заметить, что пользователи без подписки совершают больше поездок, чем пользователи с подпиской. \n",
    "\n",
    "В среднем они совершают 14 поездок против 9. Также есть существенная разница в минимальном и максимальном количестве поездок: 4 против 2 и 27 против 21. \n",
    "\n",
    "Также изучим распределение количества поездок за каждый месяц, возможно, мы найдем что-нибудь важное для нашего исследования."
   ]
  },
  {
   "cell_type": "markdown",
   "id": "09c9fb74",
   "metadata": {},
   "source": [
    "### 3.3.3.2. Количество поездок в месяц"
   ]
  },
  {
   "cell_type": "markdown",
   "id": "3ae16fba",
   "metadata": {},
   "source": [
    "Рассмотрим количество поездок пользователей с оформленной подпиской и без нее."
   ]
  },
  {
   "cell_type": "code",
   "execution_count": 40,
   "id": "2fc0b88a",
   "metadata": {},
   "outputs": [
    {
     "name": "stdout",
     "output_type": "stream",
     "text": [
      "Минимальное, максимальное и среднее значение:\n"
     ]
    },
    {
     "data": {
      "text/plain": [
       "count    4533.00\n",
       "mean        1.43\n",
       "std         0.70\n",
       "min         1.00\n",
       "25%         1.00\n",
       "50%         1.00\n",
       "75%         2.00\n",
       "max         6.00\n",
       "Name: count_rides, dtype: float64"
      ]
     },
     "metadata": {},
     "output_type": "display_data"
    },
    {
     "name": "stdout",
     "output_type": "stream",
     "text": [
      "Медианное значение:\n"
     ]
    },
    {
     "data": {
      "text/plain": [
       "1.0"
      ]
     },
     "metadata": {},
     "output_type": "display_data"
    }
   ],
   "source": [
    "ultra_count_rides_month = subscription_ultra.pivot_table(index=['user_id', 'month_number'], values='date', aggfunc='count')\n",
    "ultra_count_rides_month = ultra_count_rides_month.rename(columns={'date':'count_rides'})\n",
    "describe_info(ultra_count_rides_month.count_rides)"
   ]
  },
  {
   "cell_type": "code",
   "execution_count": 41,
   "id": "421c6de5",
   "metadata": {},
   "outputs": [
    {
     "name": "stdout",
     "output_type": "stream",
     "text": [
      "Минимальное, максимальное и среднее значение:\n"
     ]
    },
    {
     "data": {
      "text/plain": [
       "count    6798.00\n",
       "mean        1.70\n",
       "std         0.89\n",
       "min         1.00\n",
       "25%         1.00\n",
       "50%         1.00\n",
       "75%         2.00\n",
       "max         7.00\n",
       "Name: count_rides, dtype: float64"
      ]
     },
     "metadata": {},
     "output_type": "display_data"
    },
    {
     "name": "stdout",
     "output_type": "stream",
     "text": [
      "Медианное значение:\n"
     ]
    },
    {
     "data": {
      "text/plain": [
       "1.0"
      ]
     },
     "metadata": {},
     "output_type": "display_data"
    }
   ],
   "source": [
    "free_count_rides_month = subscription_free.pivot_table(index=['user_id', 'month_number'], values='date', aggfunc='count')\n",
    "free_count_rides_month = free_count_rides_month.rename(columns={'date':'count_rides'})\n",
    "describe_info(free_count_rides_month.count_rides)"
   ]
  },
  {
   "cell_type": "markdown",
   "id": "35459640",
   "metadata": {},
   "source": [
    "Видим, что обычно пользователи пользуются сервисом 1–2 раза. Пользователи с подпиской совершали максимум 7 поездок, а без нее — 6 поездок."
   ]
  },
  {
   "cell_type": "markdown",
   "id": "56633b27",
   "metadata": {},
   "source": [
    "### 3.4. Ежемесячная выручка "
   ]
  },
  {
   "cell_type": "markdown",
   "id": "e8bc11ba",
   "metadata": {},
   "source": [
    "Для расчетов выручки округлим и перезапишем значения продолжительности поездок."
   ]
  },
  {
   "cell_type": "code",
   "execution_count": 42,
   "id": "7aaea34d",
   "metadata": {},
   "outputs": [
    {
     "data": {
      "text/html": [
       "<div>\n",
       "<style scoped>\n",
       "    .dataframe tbody tr th:only-of-type {\n",
       "        vertical-align: middle;\n",
       "    }\n",
       "\n",
       "    .dataframe tbody tr th {\n",
       "        vertical-align: top;\n",
       "    }\n",
       "\n",
       "    .dataframe thead th {\n",
       "        text-align: right;\n",
       "    }\n",
       "</style>\n",
       "<table border=\"1\" class=\"dataframe\">\n",
       "  <thead>\n",
       "    <tr style=\"text-align: right;\">\n",
       "      <th></th>\n",
       "      <th>user_id</th>\n",
       "      <th>name</th>\n",
       "      <th>age</th>\n",
       "      <th>city</th>\n",
       "      <th>subscription_type</th>\n",
       "      <th>distance</th>\n",
       "      <th>duration</th>\n",
       "      <th>date</th>\n",
       "      <th>month_number</th>\n",
       "      <th>minute_price</th>\n",
       "      <th>start_ride_price</th>\n",
       "      <th>subscription_fee</th>\n",
       "    </tr>\n",
       "  </thead>\n",
       "  <tbody>\n",
       "    <tr>\n",
       "      <th>2361</th>\n",
       "      <td>251</td>\n",
       "      <td>Василий</td>\n",
       "      <td>20</td>\n",
       "      <td>Сочи</td>\n",
       "      <td>ultra</td>\n",
       "      <td>2510.175651</td>\n",
       "      <td>21</td>\n",
       "      <td>2021-04-14</td>\n",
       "      <td>4</td>\n",
       "      <td>6</td>\n",
       "      <td>0</td>\n",
       "      <td>199</td>\n",
       "    </tr>\n",
       "    <tr>\n",
       "      <th>17655</th>\n",
       "      <td>1506</td>\n",
       "      <td>Регина</td>\n",
       "      <td>29</td>\n",
       "      <td>Сочи</td>\n",
       "      <td>free</td>\n",
       "      <td>3630.665228</td>\n",
       "      <td>21</td>\n",
       "      <td>2021-11-27</td>\n",
       "      <td>11</td>\n",
       "      <td>8</td>\n",
       "      <td>50</td>\n",
       "      <td>0</td>\n",
       "    </tr>\n",
       "    <tr>\n",
       "      <th>4472</th>\n",
       "      <td>482</td>\n",
       "      <td>Ясмина</td>\n",
       "      <td>22</td>\n",
       "      <td>Пятигорск</td>\n",
       "      <td>ultra</td>\n",
       "      <td>2809.149104</td>\n",
       "      <td>14</td>\n",
       "      <td>2021-10-29</td>\n",
       "      <td>10</td>\n",
       "      <td>6</td>\n",
       "      <td>0</td>\n",
       "      <td>199</td>\n",
       "    </tr>\n",
       "    <tr>\n",
       "      <th>12903</th>\n",
       "      <td>1167</td>\n",
       "      <td>Тамерлан</td>\n",
       "      <td>27</td>\n",
       "      <td>Москва</td>\n",
       "      <td>free</td>\n",
       "      <td>4225.588768</td>\n",
       "      <td>13</td>\n",
       "      <td>2021-09-30</td>\n",
       "      <td>9</td>\n",
       "      <td>8</td>\n",
       "      <td>50</td>\n",
       "      <td>0</td>\n",
       "    </tr>\n",
       "    <tr>\n",
       "      <th>6964</th>\n",
       "      <td>731</td>\n",
       "      <td>Алексей</td>\n",
       "      <td>28</td>\n",
       "      <td>Пятигорск</td>\n",
       "      <td>free</td>\n",
       "      <td>392.291179</td>\n",
       "      <td>14</td>\n",
       "      <td>2021-09-12</td>\n",
       "      <td>9</td>\n",
       "      <td>8</td>\n",
       "      <td>50</td>\n",
       "      <td>0</td>\n",
       "    </tr>\n",
       "  </tbody>\n",
       "</table>\n",
       "</div>"
      ],
      "text/plain": [
       "       user_id      name  age       city subscription_type     distance  \\\n",
       "2361       251   Василий   20       Сочи             ultra  2510.175651   \n",
       "17655     1506    Регина   29       Сочи              free  3630.665228   \n",
       "4472       482    Ясмина   22  Пятигорск             ultra  2809.149104   \n",
       "12903     1167  Тамерлан   27     Москва              free  4225.588768   \n",
       "6964       731   Алексей   28  Пятигорск              free   392.291179   \n",
       "\n",
       "       duration       date  month_number  minute_price  start_ride_price  \\\n",
       "2361         21 2021-04-14             4             6                 0   \n",
       "17655        21 2021-11-27            11             8                50   \n",
       "4472         14 2021-10-29            10             6                 0   \n",
       "12903        13 2021-09-30             9             8                50   \n",
       "6964         14 2021-09-12             9             8                50   \n",
       "\n",
       "       subscription_fee  \n",
       "2361                199  \n",
       "17655                 0  \n",
       "4472                199  \n",
       "12903                 0  \n",
       "6964                  0  "
      ]
     },
     "execution_count": 42,
     "metadata": {},
     "output_type": "execute_result"
    }
   ],
   "source": [
    "data['duration'] = np.ceil(data['duration'])\n",
    "data['duration'] = data['duration'].astype(int)\n",
    "data.sample(5)"
   ]
  },
  {
   "cell_type": "markdown",
   "id": "379a8750",
   "metadata": {},
   "source": [
    "Создадим сводную таблицу, в которой объединим данные о пользователях и месяцах, в которые они совершали поездки. Затем подсчитаем общую дистанцию и продолжительность поездок за каждый месяц."
   ]
  },
  {
   "cell_type": "code",
   "execution_count": 43,
   "id": "c3c5b4bb",
   "metadata": {},
   "outputs": [
    {
     "data": {
      "text/html": [
       "<div>\n",
       "<style scoped>\n",
       "    .dataframe tbody tr th:only-of-type {\n",
       "        vertical-align: middle;\n",
       "    }\n",
       "\n",
       "    .dataframe tbody tr th {\n",
       "        vertical-align: top;\n",
       "    }\n",
       "\n",
       "    .dataframe thead th {\n",
       "        text-align: right;\n",
       "    }\n",
       "</style>\n",
       "<table border=\"1\" class=\"dataframe\">\n",
       "  <thead>\n",
       "    <tr style=\"text-align: right;\">\n",
       "      <th></th>\n",
       "      <th></th>\n",
       "      <th>count_distance</th>\n",
       "      <th>distance</th>\n",
       "      <th>duration</th>\n",
       "      <th>month</th>\n",
       "      <th>month_number</th>\n",
       "      <th>subscription_type</th>\n",
       "    </tr>\n",
       "    <tr>\n",
       "      <th>user_id</th>\n",
       "      <th>month_number</th>\n",
       "      <th></th>\n",
       "      <th></th>\n",
       "      <th></th>\n",
       "      <th></th>\n",
       "      <th></th>\n",
       "      <th></th>\n",
       "    </tr>\n",
       "  </thead>\n",
       "  <tbody>\n",
       "    <tr>\n",
       "      <th rowspan=\"6\" valign=\"top\">1</th>\n",
       "      <th>1</th>\n",
       "      <td>2</td>\n",
       "      <td>7027.511294</td>\n",
       "      <td>42</td>\n",
       "      <td>1</td>\n",
       "      <td>2</td>\n",
       "      <td>ultra</td>\n",
       "    </tr>\n",
       "    <tr>\n",
       "      <th>4</th>\n",
       "      <td>1</td>\n",
       "      <td>754.159807</td>\n",
       "      <td>7</td>\n",
       "      <td>4</td>\n",
       "      <td>1</td>\n",
       "      <td>ultra</td>\n",
       "    </tr>\n",
       "    <tr>\n",
       "      <th>8</th>\n",
       "      <td>2</td>\n",
       "      <td>6723.470560</td>\n",
       "      <td>46</td>\n",
       "      <td>8</td>\n",
       "      <td>2</td>\n",
       "      <td>ultra</td>\n",
       "    </tr>\n",
       "    <tr>\n",
       "      <th>10</th>\n",
       "      <td>2</td>\n",
       "      <td>5809.911100</td>\n",
       "      <td>32</td>\n",
       "      <td>10</td>\n",
       "      <td>2</td>\n",
       "      <td>ultra</td>\n",
       "    </tr>\n",
       "    <tr>\n",
       "      <th>11</th>\n",
       "      <td>3</td>\n",
       "      <td>7003.499363</td>\n",
       "      <td>56</td>\n",
       "      <td>11</td>\n",
       "      <td>3</td>\n",
       "      <td>ultra</td>\n",
       "    </tr>\n",
       "    <tr>\n",
       "      <th>12</th>\n",
       "      <td>2</td>\n",
       "      <td>6751.629942</td>\n",
       "      <td>28</td>\n",
       "      <td>12</td>\n",
       "      <td>2</td>\n",
       "      <td>ultra</td>\n",
       "    </tr>\n",
       "    <tr>\n",
       "      <th rowspan=\"4\" valign=\"top\">2</th>\n",
       "      <th>3</th>\n",
       "      <td>3</td>\n",
       "      <td>10187.723006</td>\n",
       "      <td>63</td>\n",
       "      <td>3</td>\n",
       "      <td>3</td>\n",
       "      <td>ultra</td>\n",
       "    </tr>\n",
       "    <tr>\n",
       "      <th>4</th>\n",
       "      <td>2</td>\n",
       "      <td>6164.381824</td>\n",
       "      <td>40</td>\n",
       "      <td>4</td>\n",
       "      <td>2</td>\n",
       "      <td>ultra</td>\n",
       "    </tr>\n",
       "    <tr>\n",
       "      <th>6</th>\n",
       "      <td>1</td>\n",
       "      <td>3255.338202</td>\n",
       "      <td>14</td>\n",
       "      <td>6</td>\n",
       "      <td>1</td>\n",
       "      <td>ultra</td>\n",
       "    </tr>\n",
       "    <tr>\n",
       "      <th>7</th>\n",
       "      <td>2</td>\n",
       "      <td>6780.722964</td>\n",
       "      <td>48</td>\n",
       "      <td>7</td>\n",
       "      <td>2</td>\n",
       "      <td>ultra</td>\n",
       "    </tr>\n",
       "  </tbody>\n",
       "</table>\n",
       "</div>"
      ],
      "text/plain": [
       "                      count_distance      distance  duration  month  \\\n",
       "user_id month_number                                                  \n",
       "1       1                          2   7027.511294        42      1   \n",
       "        4                          1    754.159807         7      4   \n",
       "        8                          2   6723.470560        46      8   \n",
       "        10                         2   5809.911100        32     10   \n",
       "        11                         3   7003.499363        56     11   \n",
       "        12                         2   6751.629942        28     12   \n",
       "2       3                          3  10187.723006        63      3   \n",
       "        4                          2   6164.381824        40      4   \n",
       "        6                          1   3255.338202        14      6   \n",
       "        7                          2   6780.722964        48      7   \n",
       "\n",
       "                      month_number subscription_type  \n",
       "user_id month_number                                  \n",
       "1       1                        2             ultra  \n",
       "        4                        1             ultra  \n",
       "        8                        2             ultra  \n",
       "        10                       2             ultra  \n",
       "        11                       3             ultra  \n",
       "        12                       2             ultra  \n",
       "2       3                        3             ultra  \n",
       "        4                        2             ultra  \n",
       "        6                        1             ultra  \n",
       "        7                        2             ultra  "
      ]
     },
     "execution_count": 43,
     "metadata": {},
     "output_type": "execute_result"
    }
   ],
   "source": [
    "df_rides = data\n",
    "df_rides['count_distance'] = df_rides['duration']\n",
    "df_rides['month'] = df_rides['month_number']\n",
    "\n",
    "df_rides = data.pivot_table(\n",
    "    index = ['user_id', 'month_number'], \n",
    "    values = ['distance', 'count_distance','duration','subscription_type','month'],\n",
    "    aggfunc = ({'distance':'sum','count_distance':'count','month_number':'count',\\\n",
    "                'duration':'sum','subscription_type':'max','month':'max'}))\n",
    "\n",
    "df_rides.head(10)"
   ]
  },
  {
   "cell_type": "markdown",
   "id": "41b37589",
   "metadata": {},
   "source": [
    "Добавим столбец с ежемесячной выручкой, которую принес каждый пользователь."
   ]
  },
  {
   "cell_type": "code",
   "execution_count": 44,
   "id": "87904a41",
   "metadata": {},
   "outputs": [
    {
     "data": {
      "text/html": [
       "<div>\n",
       "<style scoped>\n",
       "    .dataframe tbody tr th:only-of-type {\n",
       "        vertical-align: middle;\n",
       "    }\n",
       "\n",
       "    .dataframe tbody tr th {\n",
       "        vertical-align: top;\n",
       "    }\n",
       "\n",
       "    .dataframe thead th {\n",
       "        text-align: right;\n",
       "    }\n",
       "</style>\n",
       "<table border=\"1\" class=\"dataframe\">\n",
       "  <thead>\n",
       "    <tr style=\"text-align: right;\">\n",
       "      <th></th>\n",
       "      <th></th>\n",
       "      <th>count_distance</th>\n",
       "      <th>distance</th>\n",
       "      <th>duration</th>\n",
       "      <th>month</th>\n",
       "      <th>month_number</th>\n",
       "      <th>subscription_type</th>\n",
       "      <th>monthly_revenue</th>\n",
       "    </tr>\n",
       "    <tr>\n",
       "      <th>user_id</th>\n",
       "      <th>month_number</th>\n",
       "      <th></th>\n",
       "      <th></th>\n",
       "      <th></th>\n",
       "      <th></th>\n",
       "      <th></th>\n",
       "      <th></th>\n",
       "      <th></th>\n",
       "    </tr>\n",
       "  </thead>\n",
       "  <tbody>\n",
       "    <tr>\n",
       "      <th rowspan=\"6\" valign=\"top\">1</th>\n",
       "      <th>1</th>\n",
       "      <td>2</td>\n",
       "      <td>7027.511294</td>\n",
       "      <td>42</td>\n",
       "      <td>1</td>\n",
       "      <td>2</td>\n",
       "      <td>ultra</td>\n",
       "      <td>451</td>\n",
       "    </tr>\n",
       "    <tr>\n",
       "      <th>4</th>\n",
       "      <td>1</td>\n",
       "      <td>754.159807</td>\n",
       "      <td>7</td>\n",
       "      <td>4</td>\n",
       "      <td>1</td>\n",
       "      <td>ultra</td>\n",
       "      <td>241</td>\n",
       "    </tr>\n",
       "    <tr>\n",
       "      <th>8</th>\n",
       "      <td>2</td>\n",
       "      <td>6723.470560</td>\n",
       "      <td>46</td>\n",
       "      <td>8</td>\n",
       "      <td>2</td>\n",
       "      <td>ultra</td>\n",
       "      <td>475</td>\n",
       "    </tr>\n",
       "    <tr>\n",
       "      <th>10</th>\n",
       "      <td>2</td>\n",
       "      <td>5809.911100</td>\n",
       "      <td>32</td>\n",
       "      <td>10</td>\n",
       "      <td>2</td>\n",
       "      <td>ultra</td>\n",
       "      <td>391</td>\n",
       "    </tr>\n",
       "    <tr>\n",
       "      <th>11</th>\n",
       "      <td>3</td>\n",
       "      <td>7003.499363</td>\n",
       "      <td>56</td>\n",
       "      <td>11</td>\n",
       "      <td>3</td>\n",
       "      <td>ultra</td>\n",
       "      <td>535</td>\n",
       "    </tr>\n",
       "    <tr>\n",
       "      <th>12</th>\n",
       "      <td>2</td>\n",
       "      <td>6751.629942</td>\n",
       "      <td>28</td>\n",
       "      <td>12</td>\n",
       "      <td>2</td>\n",
       "      <td>ultra</td>\n",
       "      <td>367</td>\n",
       "    </tr>\n",
       "    <tr>\n",
       "      <th rowspan=\"4\" valign=\"top\">2</th>\n",
       "      <th>3</th>\n",
       "      <td>3</td>\n",
       "      <td>10187.723006</td>\n",
       "      <td>63</td>\n",
       "      <td>3</td>\n",
       "      <td>3</td>\n",
       "      <td>ultra</td>\n",
       "      <td>577</td>\n",
       "    </tr>\n",
       "    <tr>\n",
       "      <th>4</th>\n",
       "      <td>2</td>\n",
       "      <td>6164.381824</td>\n",
       "      <td>40</td>\n",
       "      <td>4</td>\n",
       "      <td>2</td>\n",
       "      <td>ultra</td>\n",
       "      <td>439</td>\n",
       "    </tr>\n",
       "    <tr>\n",
       "      <th>6</th>\n",
       "      <td>1</td>\n",
       "      <td>3255.338202</td>\n",
       "      <td>14</td>\n",
       "      <td>6</td>\n",
       "      <td>1</td>\n",
       "      <td>ultra</td>\n",
       "      <td>283</td>\n",
       "    </tr>\n",
       "    <tr>\n",
       "      <th>7</th>\n",
       "      <td>2</td>\n",
       "      <td>6780.722964</td>\n",
       "      <td>48</td>\n",
       "      <td>7</td>\n",
       "      <td>2</td>\n",
       "      <td>ultra</td>\n",
       "      <td>487</td>\n",
       "    </tr>\n",
       "  </tbody>\n",
       "</table>\n",
       "</div>"
      ],
      "text/plain": [
       "                      count_distance      distance  duration  month  \\\n",
       "user_id month_number                                                  \n",
       "1       1                          2   7027.511294        42      1   \n",
       "        4                          1    754.159807         7      4   \n",
       "        8                          2   6723.470560        46      8   \n",
       "        10                         2   5809.911100        32     10   \n",
       "        11                         3   7003.499363        56     11   \n",
       "        12                         2   6751.629942        28     12   \n",
       "2       3                          3  10187.723006        63      3   \n",
       "        4                          2   6164.381824        40      4   \n",
       "        6                          1   3255.338202        14      6   \n",
       "        7                          2   6780.722964        48      7   \n",
       "\n",
       "                      month_number subscription_type  monthly_revenue  \n",
       "user_id month_number                                                   \n",
       "1       1                        2             ultra              451  \n",
       "        4                        1             ultra              241  \n",
       "        8                        2             ultra              475  \n",
       "        10                       2             ultra              391  \n",
       "        11                       3             ultra              535  \n",
       "        12                       2             ultra              367  \n",
       "2       3                        3             ultra              577  \n",
       "        4                        2             ultra              439  \n",
       "        6                        1             ultra              283  \n",
       "        7                        2             ultra              487  "
      ]
     },
     "execution_count": 44,
     "metadata": {},
     "output_type": "execute_result"
    }
   ],
   "source": [
    "def monthly_revenue(row):\n",
    "    subscription_type = row['subscription_type']\n",
    "    duration = row['duration']\n",
    "    count_distance = row['count_distance']\n",
    "    if subscription_type == 'ultra':\n",
    "        return (6 * duration + 199)\n",
    "    if subscription_type == 'free':\n",
    "        return (8 * duration)+(count_distance * 50)\n",
    "    \n",
    "df_rides['monthly_revenue']  = df_rides.apply(monthly_revenue, axis = 1)\n",
    "\n",
    "df_rides.head(10)"
   ]
  },
  {
   "cell_type": "markdown",
   "id": "a696b4f4",
   "metadata": {},
   "source": [
    "Также изучим выручку в каждом месяце у каждой группы пользователей, посчитаем среднюю, минимальную и максимальную стоимость одной поездки в каждом месяце."
   ]
  },
  {
   "cell_type": "code",
   "execution_count": 45,
   "id": "7a4663ab",
   "metadata": {},
   "outputs": [
    {
     "data": {
      "text/html": [
       "<div>\n",
       "<style scoped>\n",
       "    .dataframe tbody tr th:only-of-type {\n",
       "        vertical-align: middle;\n",
       "    }\n",
       "\n",
       "    .dataframe tbody tr th {\n",
       "        vertical-align: top;\n",
       "    }\n",
       "\n",
       "    .dataframe thead tr th {\n",
       "        text-align: left;\n",
       "    }\n",
       "\n",
       "    .dataframe thead tr:last-of-type th {\n",
       "        text-align: right;\n",
       "    }\n",
       "</style>\n",
       "<table border=\"1\" class=\"dataframe\">\n",
       "  <thead>\n",
       "    <tr>\n",
       "      <th></th>\n",
       "      <th colspan=\"2\" halign=\"left\">sum</th>\n",
       "      <th colspan=\"2\" halign=\"left\">median</th>\n",
       "      <th colspan=\"2\" halign=\"left\">min</th>\n",
       "      <th colspan=\"2\" halign=\"left\">max</th>\n",
       "    </tr>\n",
       "    <tr>\n",
       "      <th>subscription_type</th>\n",
       "      <th>free</th>\n",
       "      <th>ultra</th>\n",
       "      <th>free</th>\n",
       "      <th>ultra</th>\n",
       "      <th>free</th>\n",
       "      <th>ultra</th>\n",
       "      <th>free</th>\n",
       "      <th>ultra</th>\n",
       "    </tr>\n",
       "    <tr>\n",
       "      <th>month</th>\n",
       "      <th></th>\n",
       "      <th></th>\n",
       "      <th></th>\n",
       "      <th></th>\n",
       "      <th></th>\n",
       "      <th></th>\n",
       "      <th></th>\n",
       "      <th></th>\n",
       "    </tr>\n",
       "  </thead>\n",
       "  <tbody>\n",
       "    <tr>\n",
       "      <th>1</th>\n",
       "      <td>193850</td>\n",
       "      <td>144108</td>\n",
       "      <td>266</td>\n",
       "      <td>343</td>\n",
       "      <td>58</td>\n",
       "      <td>235</td>\n",
       "      <td>1444</td>\n",
       "      <td>787</td>\n",
       "    </tr>\n",
       "    <tr>\n",
       "      <th>2</th>\n",
       "      <td>165856</td>\n",
       "      <td>124572</td>\n",
       "      <td>250</td>\n",
       "      <td>331</td>\n",
       "      <td>58</td>\n",
       "      <td>241</td>\n",
       "      <td>1138</td>\n",
       "      <td>709</td>\n",
       "    </tr>\n",
       "    <tr>\n",
       "      <th>3</th>\n",
       "      <td>187214</td>\n",
       "      <td>142608</td>\n",
       "      <td>276</td>\n",
       "      <td>331</td>\n",
       "      <td>58</td>\n",
       "      <td>241</td>\n",
       "      <td>1268</td>\n",
       "      <td>955</td>\n",
       "    </tr>\n",
       "    <tr>\n",
       "      <th>4</th>\n",
       "      <td>185598</td>\n",
       "      <td>137318</td>\n",
       "      <td>284</td>\n",
       "      <td>337</td>\n",
       "      <td>82</td>\n",
       "      <td>235</td>\n",
       "      <td>1342</td>\n",
       "      <td>757</td>\n",
       "    </tr>\n",
       "    <tr>\n",
       "      <th>5</th>\n",
       "      <td>188030</td>\n",
       "      <td>149235</td>\n",
       "      <td>266</td>\n",
       "      <td>331</td>\n",
       "      <td>58</td>\n",
       "      <td>235</td>\n",
       "      <td>1382</td>\n",
       "      <td>895</td>\n",
       "    </tr>\n",
       "    <tr>\n",
       "      <th>6</th>\n",
       "      <td>192144</td>\n",
       "      <td>143834</td>\n",
       "      <td>274</td>\n",
       "      <td>337</td>\n",
       "      <td>58</td>\n",
       "      <td>235</td>\n",
       "      <td>1098</td>\n",
       "      <td>751</td>\n",
       "    </tr>\n",
       "    <tr>\n",
       "      <th>7</th>\n",
       "      <td>185038</td>\n",
       "      <td>143466</td>\n",
       "      <td>263</td>\n",
       "      <td>337</td>\n",
       "      <td>58</td>\n",
       "      <td>241</td>\n",
       "      <td>1146</td>\n",
       "      <td>829</td>\n",
       "    </tr>\n",
       "    <tr>\n",
       "      <th>8</th>\n",
       "      <td>187116</td>\n",
       "      <td>138534</td>\n",
       "      <td>274</td>\n",
       "      <td>331</td>\n",
       "      <td>58</td>\n",
       "      <td>235</td>\n",
       "      <td>1066</td>\n",
       "      <td>709</td>\n",
       "    </tr>\n",
       "    <tr>\n",
       "      <th>9</th>\n",
       "      <td>193700</td>\n",
       "      <td>129337</td>\n",
       "      <td>298</td>\n",
       "      <td>343</td>\n",
       "      <td>58</td>\n",
       "      <td>235</td>\n",
       "      <td>1148</td>\n",
       "      <td>715</td>\n",
       "    </tr>\n",
       "    <tr>\n",
       "      <th>10</th>\n",
       "      <td>181428</td>\n",
       "      <td>133932</td>\n",
       "      <td>292</td>\n",
       "      <td>325</td>\n",
       "      <td>58</td>\n",
       "      <td>229</td>\n",
       "      <td>1074</td>\n",
       "      <td>811</td>\n",
       "    </tr>\n",
       "    <tr>\n",
       "      <th>11</th>\n",
       "      <td>179076</td>\n",
       "      <td>126546</td>\n",
       "      <td>270</td>\n",
       "      <td>331</td>\n",
       "      <td>58</td>\n",
       "      <td>247</td>\n",
       "      <td>1074</td>\n",
       "      <td>673</td>\n",
       "    </tr>\n",
       "    <tr>\n",
       "      <th>12</th>\n",
       "      <td>195054</td>\n",
       "      <td>131047</td>\n",
       "      <td>266</td>\n",
       "      <td>337</td>\n",
       "      <td>58</td>\n",
       "      <td>223</td>\n",
       "      <td>1348</td>\n",
       "      <td>841</td>\n",
       "    </tr>\n",
       "  </tbody>\n",
       "</table>\n",
       "</div>"
      ],
      "text/plain": [
       "                      sum         median        min         max      \n",
       "subscription_type    free   ultra   free ultra free ultra  free ultra\n",
       "month                                                                \n",
       "1                  193850  144108    266   343   58   235  1444   787\n",
       "2                  165856  124572    250   331   58   241  1138   709\n",
       "3                  187214  142608    276   331   58   241  1268   955\n",
       "4                  185598  137318    284   337   82   235  1342   757\n",
       "5                  188030  149235    266   331   58   235  1382   895\n",
       "6                  192144  143834    274   337   58   235  1098   751\n",
       "7                  185038  143466    263   337   58   241  1146   829\n",
       "8                  187116  138534    274   331   58   235  1066   709\n",
       "9                  193700  129337    298   343   58   235  1148   715\n",
       "10                 181428  133932    292   325   58   229  1074   811\n",
       "11                 179076  126546    270   331   58   247  1074   673\n",
       "12                 195054  131047    266   337   58   223  1348   841"
      ]
     },
     "execution_count": 45,
     "metadata": {},
     "output_type": "execute_result"
    }
   ],
   "source": [
    "month_revenue = df_rides[['month', 'monthly_revenue', 'subscription_type']].reset_index(drop=True)\n",
    "month_revenue = month_revenue.pivot_table(\n",
    "    index='month',\n",
    "    values='monthly_revenue',\n",
    "    columns='subscription_type', aggfunc=['sum','median','min','max']\n",
    ")\n",
    "month_revenue"
   ]
  },
  {
   "cell_type": "markdown",
   "id": "c5788af4",
   "metadata": {},
   "source": [
    "Разобраться в этой таблице достаточно сложно, выведем общую числовую информацию."
   ]
  },
  {
   "cell_type": "code",
   "execution_count": 46,
   "id": "83c45c30",
   "metadata": {},
   "outputs": [
    {
     "name": "stdout",
     "output_type": "stream",
     "text": [
      "Минимальное, максимальное и среднее значение:\n"
     ]
    },
    {
     "data": {
      "text/html": [
       "<div>\n",
       "<style scoped>\n",
       "    .dataframe tbody tr th:only-of-type {\n",
       "        vertical-align: middle;\n",
       "    }\n",
       "\n",
       "    .dataframe tbody tr th {\n",
       "        vertical-align: top;\n",
       "    }\n",
       "\n",
       "    .dataframe thead tr th {\n",
       "        text-align: left;\n",
       "    }\n",
       "</style>\n",
       "<table border=\"1\" class=\"dataframe\">\n",
       "  <thead>\n",
       "    <tr>\n",
       "      <th></th>\n",
       "      <th colspan=\"2\" halign=\"left\">median</th>\n",
       "      <th colspan=\"2\" halign=\"left\">min</th>\n",
       "      <th colspan=\"2\" halign=\"left\">max</th>\n",
       "    </tr>\n",
       "    <tr>\n",
       "      <th>subscription_type</th>\n",
       "      <th>free</th>\n",
       "      <th>ultra</th>\n",
       "      <th>free</th>\n",
       "      <th>ultra</th>\n",
       "      <th>free</th>\n",
       "      <th>ultra</th>\n",
       "    </tr>\n",
       "  </thead>\n",
       "  <tbody>\n",
       "    <tr>\n",
       "      <th>count</th>\n",
       "      <td>12.00</td>\n",
       "      <td>12.0</td>\n",
       "      <td>12.00</td>\n",
       "      <td>12.00</td>\n",
       "      <td>12.00</td>\n",
       "      <td>12.00</td>\n",
       "    </tr>\n",
       "    <tr>\n",
       "      <th>mean</th>\n",
       "      <td>273.25</td>\n",
       "      <td>334.5</td>\n",
       "      <td>60.00</td>\n",
       "      <td>236.00</td>\n",
       "      <td>1210.67</td>\n",
       "      <td>786.00</td>\n",
       "    </tr>\n",
       "    <tr>\n",
       "      <th>std</th>\n",
       "      <td>13.15</td>\n",
       "      <td>5.4</td>\n",
       "      <td>6.93</td>\n",
       "      <td>6.18</td>\n",
       "      <td>137.37</td>\n",
       "      <td>84.03</td>\n",
       "    </tr>\n",
       "    <tr>\n",
       "      <th>min</th>\n",
       "      <td>250.00</td>\n",
       "      <td>325.0</td>\n",
       "      <td>58.00</td>\n",
       "      <td>223.00</td>\n",
       "      <td>1066.00</td>\n",
       "      <td>673.00</td>\n",
       "    </tr>\n",
       "    <tr>\n",
       "      <th>25%</th>\n",
       "      <td>266.00</td>\n",
       "      <td>331.0</td>\n",
       "      <td>58.00</td>\n",
       "      <td>235.00</td>\n",
       "      <td>1092.00</td>\n",
       "      <td>713.50</td>\n",
       "    </tr>\n",
       "    <tr>\n",
       "      <th>50%</th>\n",
       "      <td>272.00</td>\n",
       "      <td>334.0</td>\n",
       "      <td>58.00</td>\n",
       "      <td>235.00</td>\n",
       "      <td>1147.00</td>\n",
       "      <td>772.00</td>\n",
       "    </tr>\n",
       "    <tr>\n",
       "      <th>75%</th>\n",
       "      <td>278.00</td>\n",
       "      <td>337.0</td>\n",
       "      <td>58.00</td>\n",
       "      <td>241.00</td>\n",
       "      <td>1343.50</td>\n",
       "      <td>832.00</td>\n",
       "    </tr>\n",
       "    <tr>\n",
       "      <th>max</th>\n",
       "      <td>298.00</td>\n",
       "      <td>343.0</td>\n",
       "      <td>82.00</td>\n",
       "      <td>247.00</td>\n",
       "      <td>1444.00</td>\n",
       "      <td>955.00</td>\n",
       "    </tr>\n",
       "  </tbody>\n",
       "</table>\n",
       "</div>"
      ],
      "text/plain": [
       "                   median           min              max        \n",
       "subscription_type    free  ultra   free   ultra     free   ultra\n",
       "count               12.00   12.0  12.00   12.00    12.00   12.00\n",
       "mean               273.25  334.5  60.00  236.00  1210.67  786.00\n",
       "std                 13.15    5.4   6.93    6.18   137.37   84.03\n",
       "min                250.00  325.0  58.00  223.00  1066.00  673.00\n",
       "25%                266.00  331.0  58.00  235.00  1092.00  713.50\n",
       "50%                272.00  334.0  58.00  235.00  1147.00  772.00\n",
       "75%                278.00  337.0  58.00  241.00  1343.50  832.00\n",
       "max                298.00  343.0  82.00  247.00  1444.00  955.00"
      ]
     },
     "metadata": {},
     "output_type": "display_data"
    },
    {
     "name": "stdout",
     "output_type": "stream",
     "text": [
      "Медианное значение:\n"
     ]
    },
    {
     "data": {
      "text/plain": [
       "        subscription_type\n",
       "median  free                  272.0\n",
       "        ultra                 334.0\n",
       "min     free                   58.0\n",
       "        ultra                 235.0\n",
       "max     free                 1147.0\n",
       "        ultra                 772.0\n",
       "dtype: float64"
      ]
     },
     "metadata": {},
     "output_type": "display_data"
    }
   ],
   "source": [
    "describe_info(month_revenue[['median','min','max']])"
   ]
  },
  {
   "cell_type": "markdown",
   "id": "4bcc0501",
   "metadata": {},
   "source": [
    "Также изучим общую сумму выручки за всё время от каждого типа подписки."
   ]
  },
  {
   "cell_type": "code",
   "execution_count": 47,
   "id": "44f4bb39",
   "metadata": {},
   "outputs": [
    {
     "data": {
      "text/plain": [
       "     subscription_type\n",
       "sum  free                 2234104\n",
       "     ultra                1644537\n",
       "dtype: int64"
      ]
     },
     "execution_count": 47,
     "metadata": {},
     "output_type": "execute_result"
    }
   ],
   "source": [
    "month_revenue[['sum']].sum()"
   ]
  },
  {
   "cell_type": "markdown",
   "id": "a8a9c4d4",
   "metadata": {},
   "source": [
    "Суммарная выручка в каждой группе остаётся примерно одинаковой из месяца в месяц. Однако различия между группами довольно существенны, о чём говорит общая выручка за весь период.\n",
    "\n",
    "Если посмотреть на среднюю, минимальную и максимальную выручку за поездку, то мы увидим, что у пользователей с подпиской средние значения выше — 334 против 272, минимальные суммы за поездку значительно больше — 235 против 58, а максимальные суммы значительно меньше — 772 против 1147, чем у пользователей без подписки."
   ]
  },
  {
   "cell_type": "markdown",
   "id": "ce2f78cd",
   "metadata": {},
   "source": [
    "# 4. Проверка гипотез <a id=\"hypotheses\"></a> "
   ]
  },
  {
   "cell_type": "markdown",
   "id": "ad4fa6ba",
   "metadata": {},
   "source": [
    "## 4.1. Гипотеза «Средняя длительность поездок»"
   ]
  },
  {
   "cell_type": "markdown",
   "id": "5ffb709b",
   "metadata": {},
   "source": [
    "Определим, проводят ли пользователи с платной подпиской больше времени в поездках. Если это так, то пользователи с подпиской могут быть более выгодными для компании.\n",
    "\n",
    "**Нулевая гипотеза:** Пользователи с подпиской проводят столько же времени в поездках, сколько и пользователи без подписки.\n",
    "\n",
    "**Альтернативная гипотеза:** Пользователи с подпиской тратят на поездки больше времени, чем пользователи без подписки."
   ]
  },
  {
   "cell_type": "code",
   "execution_count": 48,
   "id": "be307fb2",
   "metadata": {},
   "outputs": [
    {
     "name": "stdout",
     "output_type": "stream",
     "text": [
      "p-значение: 1.2804098316645613e-34\n",
      "Отвергаем нулевую гипотезу\n"
     ]
    }
   ],
   "source": [
    "duration_ultra = subscription_ultra['duration']\n",
    "duration_free = subscription_free['duration']\n",
    "\n",
    "alpha = 0.05\n",
    "\n",
    "results = st.ttest_ind(duration_ultra, duration_free, alternative='greater')\n",
    "\n",
    "print('p-значение:', results.pvalue)\n",
    "\n",
    "if results.pvalue < alpha:\n",
    "    print('Отвергаем нулевую гипотезу')\n",
    "else:\n",
    "    print('Не получилось отвергнуть нулевую гипотезу')"
   ]
  },
  {
   "cell_type": "markdown",
   "id": "93bcae78",
   "metadata": {},
   "source": [
    "Перепроверим и  определим среднее время поездки для пользователей с подпиской и без неё."
   ]
  },
  {
   "cell_type": "code",
   "execution_count": 49,
   "id": "70422701",
   "metadata": {},
   "outputs": [
    {
     "name": "stdout",
     "output_type": "stream",
     "text": [
      "Медиана данных с подпиской: 18.18 минут\n",
      "Медиана данных без подписки: 17.33 минут\n"
     ]
    }
   ],
   "source": [
    "print('Медиана данных с подпиской:', duration_ultra.median().round(2), 'минут')\n",
    "print('Медиана данных без подписки:', duration_free.median().round(2), 'минут')"
   ]
  },
  {
   "cell_type": "markdown",
   "id": "224ba37b",
   "metadata": {},
   "source": [
    "**Вывод:** нулевая гипотеза была отвергнута. Это свидетельствует о том, что клиенты с подпиской, в среднем проезжают дольше, чем те, у кого подписки нет."
   ]
  },
  {
   "cell_type": "markdown",
   "id": "dd07922b",
   "metadata": {},
   "source": [
    "## 4.2. Гипотеза «Оптимальное расстояние поездок»"
   ]
  },
  {
   "cell_type": "markdown",
   "id": "6cc35ad8",
   "metadata": {},
   "source": [
    "Оптимальное расстояние одной поездки с точки зрения износа самоката составляет 3130 метров. \n",
    "\n",
    "Определим, что расстояние, которое проезжают пользователи с подпиской за одну поездку, не превышает оптимальное расстояние. \n",
    "\n",
    "**Нулевая гипотеза:** Пользователи с подпиской проезжают оптимальное расстояние в 3130 метров. \n",
    "\n",
    "**Альтернативная гипотеза:** Пользователи с подпиской проезжают большее расстояние, чем оптимальное в 3130 метров."
   ]
  },
  {
   "cell_type": "code",
   "execution_count": 50,
   "id": "c6cef241",
   "metadata": {},
   "outputs": [
    {
     "name": "stdout",
     "output_type": "stream",
     "text": [
      "p-значение: 0.9195368847849785\n",
      "Не получилось отвергнуть нулевую гипотезу\n"
     ]
    }
   ],
   "source": [
    "distance_ultra = subscription_ultra['distance']\n",
    "\n",
    "best_distance = 3130\n",
    "\n",
    "alpha = 0.05\n",
    "\n",
    "results = st.ttest_1samp(distance_ultra, best_distance, alternative='greater')\n",
    "\n",
    "print('p-значение:', results.pvalue)\n",
    "\n",
    "if results.pvalue < alpha:\n",
    "    print('Отвергаем нулевую гипотезу')\n",
    "else:\n",
    "    print('Не получилось отвергнуть нулевую гипотезу')"
   ]
  },
  {
   "cell_type": "code",
   "execution_count": 51,
   "id": "64e1aa56",
   "metadata": {},
   "outputs": [
    {
     "name": "stdout",
     "output_type": "stream",
     "text": [
      "Медианное расстрояние пользователей с подпиской: 3148.64 метра\n",
      "Медианное расстрояние пользователей без подпиской: 3114.65 метра\n"
     ]
    }
   ],
   "source": [
    "print('Медианное расстрояние пользователей с подпиской:', distance_ultra.median().round(2), 'метра')\n",
    "print('Медианное расстрояние пользователей без подпиской:', subscription_free['distance'].median().round(2), 'метра')"
   ]
  },
  {
   "cell_type": "markdown",
   "id": "1758d714",
   "metadata": {},
   "source": [
    "**Вывод:** нулевая гипотеза не была отвергнута. Это означает, что пользователи с подпиской проезжают оптимальное расстояние, равное 3130 метрам, или расстояние, близкое к нему. \n",
    "\n",
    "При этом пользователи без подписки в среднем проезжают меньше оптимального расстояния, но мы помним, что они совершают в два раза больше поездок, а также максимальное расстояние с большим отрывом тоже за ними."
   ]
  },
  {
   "cell_type": "markdown",
   "id": "9de216a1",
   "metadata": {},
   "source": [
    "## 4.3. Гипотеза «Помесячная выручка»"
   ]
  },
  {
   "cell_type": "markdown",
   "id": "0fffb7af",
   "metadata": {},
   "source": [
    "Проверим предположение о том, будет ли помесячная выручка от пользователей с подпиской выше в каждый отдельный месяц, чем выручка от пользователей без подписки.\n",
    "\n",
    "**Нулевая гипотеза:** Выручка от пользователей с подпиской такая же, как от пользователей без подписки.\n",
    "\n",
    "**Альтернативная гипотеза:** Выручка от пользователей с подпиской выше, чем от пользователей без подписки."
   ]
  },
  {
   "cell_type": "code",
   "execution_count": 52,
   "id": "bb9441f0",
   "metadata": {},
   "outputs": [
    {
     "name": "stdout",
     "output_type": "stream",
     "text": [
      "p-value: 1.8850394384715216e-31\n",
      "Отвергаем нулевую гипотезу\n"
     ]
    }
   ],
   "source": [
    "df_rides_ultra = df_rides[(df_rides['subscription_type'] == 'ultra')]\n",
    "revenue_ultra = df_rides_ultra['monthly_revenue']\n",
    "\n",
    "df_rides_free = df_rides[(df_rides['subscription_type'] == 'free')]\n",
    "revenue_free = df_rides_free['monthly_revenue']\n",
    "\n",
    "alpha = 0.05\n",
    "\n",
    "results = st.ttest_ind(revenue_ultra, revenue_free, alternative='greater')\n",
    "\n",
    "print(f'p-value: {results.pvalue}')\n",
    "\n",
    "if results.pvalue < alpha:\n",
    "    print('Отвергаем нулевую гипотезу')\n",
    "else:\n",
    "    print('Нет ооснований отвергнуть нулевую гипотезу')"
   ]
  },
  {
   "cell_type": "markdown",
   "id": "d9377e56",
   "metadata": {},
   "source": [
    "Также дополнительно выведем значения средней выручки за поездку."
   ]
  },
  {
   "cell_type": "code",
   "execution_count": 53,
   "id": "80c37a2c",
   "metadata": {},
   "outputs": [
    {
     "name": "stdout",
     "output_type": "stream",
     "text": [
      "Средняя ежемесячная выручка за поездку у пользователей с подпиской: 337.0\n",
      "Средняя ежемесячная выручка за поездку у пользователей без подписки: 274.0\n"
     ]
    }
   ],
   "source": [
    "print('Средняя ежемесячная выручка за поездку у пользователей с подпиской:',\\\n",
    "      df_rides.query('subscription_type == \"ultra\"')['monthly_revenue'].median())\n",
    "print('Средняя ежемесячная выручка за поездку у пользователей без подписки:',\\\n",
    "      df_rides.query('subscription_type == \"free\"')['monthly_revenue'].median())"
   ]
  },
  {
   "cell_type": "markdown",
   "id": "e6ce17bd",
   "metadata": {},
   "source": [
    "**Вывод:** нулевая гипотеза была отвергнута. Это означает, что те, кто использует подписку, приносят больше выручки, чем пользователи без подписки."
   ]
  },
  {
   "cell_type": "markdown",
   "id": "26f98731",
   "metadata": {},
   "source": [
    "# 5. Заключение <a id=\"conclusion\"></a>"
   ]
  },
  {
   "cell_type": "markdown",
   "id": "3e0b381d",
   "metadata": {},
   "source": [
    "В результате проведённого исследования поведения пользователей сервиса аренды самокатов мы изучили общие данные, изучили пользователей по типу подписки и проверили гипотезы.\n",
    "\n",
    "Из общих данных мы выяснили:\n",
    "* Средний возраст пользователей - 25 лет. Больше половины пользователей от 21 до 28 лет;\n",
    "* Больше половины пользователей не имеют подписки - 54.4%, и 45.6% пользователей с подпиской;\n",
    "* Средняя дистанция поездок составляет 3133 метра, а средняя длительность - 17 минут;\n",
    "* В среднем пользователи совершают 1 поездку в месяц.\n",
    "\n",
    "Мы также изучили пользователей по типу подписки и обнаружили:\n",
    "* При почти равном соотношении пользователи с подпиской совершили 6 500 поездок, а без подписки — 11 568;\n",
    "* В среднем в месяц пользователи с подпиской проезжают 545 раз, а без подписки — 970 раз.\n",
    "* Средняя дистанция поездки пользователей с подпиской — 3148 метров, а без подписки — 3114 метров;\n",
    "* Средняя длительность поездки с подпиской — 18 минут, а без подписки — 17 минут;\n",
    "* Среднее количество поездок за всё время у пользователя с подпиской — 9, а без подписки — 14.\n",
    "\n",
    "Провели статистический анализ и проверили гипотезы по запросу бизнеса. В результате выяснили:\n",
    "1. Нулевая гипотеза была отвергнута. Пользователи с подпиской тратят больше времени на поездки в сравнении с теми, у кого нет подписки. Это позволяет компании получать дополнительную выгоду.\n",
    "2. Не получилось отвергнуть нулевую гипотезу. Пользователи проезжают близкое к оптимальному расстоянию в 3130 метров.\n",
    "3. Нулевая гипотеза была отвергнута. Пользователи с подпиской приносят в среднем в месяц больше выручки, чем пользователи без подписки.\n",
    "\n",
    "На основании этих данных мы выяснили, что пользователи без подписки часто ездят дольше и быстрее, чем пользователи с подпиской, что говорит о них как о менее аккуратных клиентах.\n",
    "\n",
    "При изучении условий подписки и выручки пользователей в каждой группе, мы выяснили:\n",
    "\n",
    "* Общая выручка от пользователей с подпиской составляет — 1 644 537 ₽, а от пользователей без подписки — 2 234 104 ₽.\n",
    "* Средняя стоимость одной поездки у пользователя с подпиской — 334 ₽, а у пользователя без подписки — 272 ₽.\n",
    "\n",
    "Разница соотношения пользователей с подпиской и без лишь в 9%, но пользователи без подписки совершают почти в 2 раза больше поездок и приносят суммарно больше денег и кажется более выгодными для компании. Хоть и показатель средней ежемесячной выручки от пользователей с подпиской выше. \n",
    "\n",
    "Это говорит о том, что если предположить, что два пользователя, один с подпиской, а другой нет, за месяц сделали 1 поездку со средними показателями в 17 минут, то:\n",
    "- выручка за месяц от пользователя с подпиской составит - 301 ₽;\n",
    "- выручка за месяц от пользователя без подписки составлит - 186 ₽.\n",
    "\n",
    "Но, если те же пользователи совершают например 5 поездок за месяц, то:\n",
    "- выручка за месяц от пользователя с подпиской составит - 709 ₽;\n",
    "- выручка за месяц от пользователя без подписки составит - 930 ₽.\n",
    "\n",
    "Во время исследования мы смогли установить, что и те и другие пользователи проезжают в среднем 1 поездку в месяц и нам намного выгоднее привлекать пользователей в платную подписку с абонентской платой. Но если пользователи начнут пользоватся сервисом намного активнее, то это может привести к убыткам."
   ]
  }
 ],
 "metadata": {
  "kernelspec": {
   "display_name": "Python 3 (ipykernel)",
   "language": "python",
   "name": "python3"
  },
  "language_info": {
   "codemirror_mode": {
    "name": "ipython",
    "version": 3
   },
   "file_extension": ".py",
   "mimetype": "text/x-python",
   "name": "python",
   "nbconvert_exporter": "python",
   "pygments_lexer": "ipython3",
   "version": "3.8.19"
  }
 },
 "nbformat": 4,
 "nbformat_minor": 5
}
